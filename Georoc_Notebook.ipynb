{
 "cells": [
  {
   "attachments": {},
   "cell_type": "markdown",
   "metadata": {},
   "source": [
    "<img src=\"https://pbs.twimg.com/media/E0m6c9FX0AIX0p1.png\" style=\"height:150px\" align=\"left\"/> <br><br>\n",
    "\n",
    "<br/>\n",
    "<br/>\n",
    "<br/>\n",
    "<br/>\n",
    "<br/>\n",
    "\n",
    "### **Exploring GEOROC 2.0:** <br/> Data Access, Formatting, and Visualization for Geochemical Analysis\n",
    "\n",
    "***\n",
    "\n",
    "The GEOROC Database (Geochemistry of Rocks of the Oceans and Continents) is a comprehensive collection of published analyses <br/> of igneous and metamorphic rocks and minerals. It contains major and trace element concentrations, radiogenic and nonradiogenic <br/> isotope ratios as well as analytical ages for whole rocks, glasses, minerals and inclusions. Metadata include geospatial and other <br/> sample information, analytical details and references.\n",
    "\n",
    "The GEOROC Database was established at the Max Planck Institute for Chemistry in Mainz (Germany). In 2021, the database was <br/> moved to Göttingen University, where it continues to be curated as part of the DIGIS project of the Department of Geochemistry and <br/> Isotope Geology at the Geoscience Centre (GZG) and the University and State Library (SUB). Development for GEOROC 2.0 <br/> includes a new data model for greater interoperability, options to contribute data, and improved access to the database.\n",
    "\n",
    "As part of the DIGIS project, a new API interface has been created for the GEOROC database, allowing easy access to its contents <br/>\n",
    "with simple programming skills. Users can now query the database and retrieve data using the new API, making it more accessible <br/>\n",
    "and useful for researchers and other interested parties. This notebook demonstrates the basic capabilities of GEOROC data access <br/> via the new DIGIS API. \n",
    "\n",
    "For feedback, questions and further information contact [Digis-Info](mailto:digis-info@uni-goettingen.de) directly.\n",
    "\n",
    "This notebook demonstrates the basic capabilities of common data cleaning methods in geoscience.\n",
    "\n",
    "***\n",
    "\n",
    "Juni 2023, Dr. Marthe Klöcking, Timm M. Wirtz\n",
    "\n",
    "<img src=\"https://mirrors.creativecommons.org/presskit/buttons/88x31/png/by-nc-sa.png\" style=\"height:50px\" align=\"left\"/> <br><br>\n",
    "\n",
    "https://creativecommons.org/licenses/by-nc-sa/4.0/"
   ]
  },
  {
   "attachments": {},
   "cell_type": "markdown",
   "metadata": {},
   "source": [
    "***"
   ]
  },
  {
   "attachments": {},
   "cell_type": "markdown",
   "metadata": {},
   "source": [
    "### <a name=\"table\"></a>Table of contents\n",
    "\n",
    "* [Import modules](#import)\n",
    "* [Store your API key](#store)\n",
    "        * [Hint](#hint)\n",
    "* [Select the data that should be in the dataset](#select)\n",
    "        * [Hint](#hint2)\n",
    "* [Check if there is a connection to the API](#check)\n",
    "* [Select the filters to search for desired data](#filters)\n",
    "* [Extract the necessary SampleID's](#extract1)\n",
    "* [Extract all the data using the SampleID's](#extract2)\n",
    "* [Structure and pivot the dataset](#strucdata)\n",
    "* [Plot the data on a map](#plotmap)\n",
    "* [Plot FeO* against S](#plotfeotS)\n",
    "* [Plot the data in the TAS diagram](#plottas)\n",
    "* [References](#refs)\n",
    "* [QR code for accessing this Jupyter notebook](#qrcode)\n",
    "        * [Hint](#hint3)"
   ]
  },
  {
   "attachments": {},
   "cell_type": "markdown",
   "metadata": {},
   "source": [
    "***"
   ]
  },
  {
   "attachments": {},
   "cell_type": "markdown",
   "metadata": {},
   "source": [
    "#### <a name=\"import\"></a>Import modules"
   ]
  },
  {
   "attachments": {},
   "cell_type": "markdown",
   "metadata": {},
   "source": [
    "**requests**: This module allows you to send HTTP requests and handle responses in Python. It is commonly used for making API <br/> calls and retrieving data from web servers.\n",
    "\n",
    "**json**: The JSON module provides functions to work with JSON data. It allows you to serialize Python objects into JSON strings <br/>  and deserialize JSON strings into Python objects.\n",
    "\n",
    "**pandas**: The pandas library is a powerful tool for data manipulation and analysis. It provides data structures and functions <br/>  for efficiently working with structured data, such as tables or spreadsheets.\n",
    "\n",
    "**geopandas**: Geopandas is an extension of the pandas library that adds support for geospatial data analysis. It provides data <br/>  structures and functions for working with geographic data, such as maps, spatial joins, and geometric operations.\n",
    "\n",
    "**seaborn**: Seaborn is a data visualization library based on matplotlib. It provides a high-level interface for creating attractive <br/>  and informative statistical graphics.\n",
    "\n",
    "**matplotlib.pyplot**: Matplotlib is a comprehensive plotting library in Python. It provides a wide range of functionalities for <br/>  creating static, animated, and interactive visualizations.\n",
    "\n",
    "**matplotlib.patches.Ellipse**: The Ellipse module in matplotlib.patches allows you to draw ellipses on plots. It is useful for <br/>  representing uncertainties or confidence intervals in data visualizations.\n",
    "\n",
    "**contextily**: Contextily is a Python library that adds web map tiles as a background to matplotlib plots. It makes it easy to <br/>  include basemaps from popular mapping providers, such as OpenStreetMap or Stamen, in your visualizations.\n",
    "\n",
    "**adjust_text**: The adjust_text module provides functions for automatically adjusting the position of text labels in a plot to <br/>  prevent overlaps. It is particularly useful when you have many data points and want to ensure that the labels are readable.\n",
    "\n",
    "**widgets**: The widgets module in ipywidgets provides interactive user interface elements, such as sliders, buttons, and <br/> dropdown menus,  for Jupyter notebooks. It allows you to create interactive data exploration and visualization tools.\n",
    "\n",
    "**Layout**: The Layout module in ipywidgets allows you to customize the layout and styling of the widgets. It provides options for <br/>  controlling the size, alignment, and spacing of the widgets in the user interface.\n",
    "\n",
    "**IntProgress, HBox, Label**: These are specific widget classes in ipywidgets. IntProgress is a widget for displaying a progress bar, <br/>  HBox is a container widget that arranges its children horizontally, and Label is a widget for displaying text or a description.\n",
    "\n",
    "**Button**: The Button widget in ipywidgets allows you to create clickable buttons in the user interface. It is commonly used for <br/>  triggering actions or functions when clicked."
   ]
  },
  {
   "cell_type": "code",
   "execution_count": null,
   "metadata": {},
   "outputs": [],
   "source": [
    "import requests\n",
    "import json\n",
    "import pandas as pd\n",
    "import geopandas as gpd\n",
    "import seaborn as sns\n",
    "import matplotlib.pyplot as plt\n",
    "from matplotlib.patches import Ellipse\n",
    "import contextily as ctx\n",
    "from adjustText import adjust_text\n",
    "from ipywidgets import widgets\n",
    "from ipywidgets import Layout\n",
    "from ipywidgets import IntProgress, Layout, HBox, Label\n",
    "from ipywidgets import Button\n",
    "from functions.widgets import *\n",
    "from functions.georoc_api import GeoRocAPI\n",
    "from functions.app import MyApp\n",
    "from functions.utils import *"
   ]
  },
  {
   "attachments": {},
   "cell_type": "markdown",
   "metadata": {},
   "source": [
    "***"
   ]
  },
  {
   "attachments": {},
   "cell_type": "markdown",
   "metadata": {},
   "source": [
    "#### <a name=\"store\"></a> Store your API key"
   ]
  },
  {
   "attachments": {},
   "cell_type": "markdown",
   "metadata": {},
   "source": []
  },
  {
   "cell_type": "code",
   "execution_count": null,
   "metadata": {},
   "outputs": [],
   "source": [
    "my_app = MyApp()"
   ]
  },
  {
   "attachments": {},
   "cell_type": "markdown",
   "metadata": {},
   "source": [
    "##### <a name=\"hint\"></a>Hint:\n",
    "- It is necessary to deposit the API and press the button so that it can be transferred."
   ]
  },
  {
   "attachments": {},
   "cell_type": "markdown",
   "metadata": {},
   "source": [
    "***"
   ]
  },
  {
   "attachments": {},
   "cell_type": "markdown",
   "metadata": {},
   "source": [
    "#### <a name=\"select\"></a> Select the data that should be in the dataset"
   ]
  },
  {
   "attachments": {},
   "cell_type": "markdown",
   "metadata": {},
   "source": []
  },
  {
   "cell_type": "code",
   "execution_count": null,
   "metadata": {},
   "outputs": [],
   "source": [
    "display(grid)"
   ]
  },
  {
   "attachments": {},
   "cell_type": "markdown",
   "metadata": {},
   "source": [
    "##### <a name=\"hint2\"></a>Hint:\n",
    "- It is necessary to specify the appropriate selection. Please use here:  **SampleName**, **Longitute**, **Latitude**, **Item_Name**, **Item_Groupe**, **Units** and **Values**."
   ]
  },
  {
   "attachments": {},
   "cell_type": "markdown",
   "metadata": {},
   "source": [
    "***"
   ]
  },
  {
   "attachments": {},
   "cell_type": "markdown",
   "metadata": {},
   "source": [
    "#### <a name=\"check\"></a>Check if there is a connection to the API"
   ]
  },
  {
   "cell_type": "code",
   "execution_count": null,
   "metadata": {},
   "outputs": [],
   "source": [
    "# Define a function to check the API connection\n",
    "def check_api_connection():\n",
    "    # Set the API endpoint to \"ping\"\n",
    "    endpoint = \"ping\"\n",
    "    \n",
    "    # Make an API query to the specified endpoint\n",
    "    response = my_app.api.api_query(endpoint)\n",
    "    \n",
    "    # Check if the response is not None\n",
    "    if response is not None:\n",
    "        print(\"Connection to API server successful!\\n\")\n",
    "    else:\n",
    "        print(\"Failed to connect to API server!\\n\")\n",
    "        exit(1)\n",
    "\n",
    "# Call the check_api_connection function\n",
    "check_api_connection()"
   ]
  },
  {
   "attachments": {},
   "cell_type": "markdown",
   "metadata": {},
   "source": [
    "#### <a name=\"filters\"></a> Select the filters to search for desired data"
   ]
  },
  {
   "cell_type": "code",
   "execution_count": null,
   "metadata": {},
   "outputs": [],
   "source": [
    "display(grid2)"
   ]
  },
  {
   "attachments": {},
   "cell_type": "markdown",
   "metadata": {},
   "source": [
    "[Back to Table of contects](#table)"
   ]
  },
  {
   "attachments": {},
   "cell_type": "markdown",
   "metadata": {},
   "source": [
    "***"
   ]
  },
  {
   "attachments": {},
   "cell_type": "markdown",
   "metadata": {},
   "source": [
    "#### <a name=\"extract1\"></a>Extract the necessary SampleID's"
   ]
  },
  {
   "cell_type": "code",
   "execution_count": null,
   "metadata": {},
   "outputs": [],
   "source": [
    "# Call the get_filtered_samples method of the my_app.api object with the specified parameters\n",
    "filtered_samples_combined = my_app.api.get_filtered_samples(\n",
    "    limit=limit_widget.value,\n",
    "    offset=offset_widget.value,\n",
    "    location1=location1_widget.value,\n",
    "    location2=location2_widget.value,\n",
    "    location3=location3_widget.value,\n",
    "    setting=setting_widget.value,\n",
    "    latitude=latitude_widget.value,\n",
    "    longitude=longitude_widget.value,\n",
    "    rocktype=rocktype_widget.value,\n",
    "    rockclass=rockclass_widget.value,\n",
    "    mineral=mineral_widget.value,\n",
    "    material=material_widget.value,\n",
    "    inclusiontype=inclusiontype_widget.value,\n",
    "    sampletech=sampletech_widget.value,\n",
    "    element=element_widget.value,\n",
    "    elementtype=elementtype_widget.value,\n",
    "    value=value_widget.value,\n",
    "    title=title_widget.value,\n",
    "    publicationyear=publicationyear_widget.value,\n",
    "    doi=doi_widget.value,\n",
    "    firstname=firstname_widget.value,\n",
    "    lastname=lastname_widget.value,\n",
    "    agemin=agemin_widget.value,\n",
    "    agemax=agemax_widget.value,\n",
    "    geoage=geoage_widget.value,\n",
    "    geoageprefix=geoageprefix_widget.value,\n",
    "    lab=lab_widget.value\n",
    ")\n",
    "\n",
    "# Check if the key \"Data\" exists in the filtered_samples_combined dictionary\n",
    "if 'Data' in filtered_samples_combined:\n",
    "    print(\"\\n\")\n",
    "    # Print each item in the list of dictionaries under the key \"Data\"\n",
    "    for item in filtered_samples_combined['Data']:\n",
    "        print(str(item))\n",
    "    print(\"\\n\")\n",
    "else:\n",
    "    print(\"No data found or unexpected data structure\", \"\\n\")"
   ]
  },
  {
   "cell_type": "code",
   "execution_count": null,
   "metadata": {},
   "outputs": [],
   "source": [
    "# Check if the key \"Data\" exists in the dictionary \"filtered_samples_combined\" and if its value is not empty\n",
    "if \"Data\" in filtered_samples_combined and filtered_samples_combined[\"Data\"]:\n",
    "    # Extract the \"SampleID\" values from the list of dictionaries in the \"Data\" key\n",
    "    sampling_feature_ids = [sample[\"SampleID\"] for sample in filtered_samples_combined[\"Data\"]]\n",
    "    \n",
    "    # Print the extracted SampleIDs\n",
    "    print(\"\\n\", \"The extracted SampleIDs are:\")\n",
    "    \n",
    "    # Print the SampleIDs in groups of 10 with a line break after each group\n",
    "    for i in range(0, len(sampling_feature_ids), 10):\n",
    "        print(sampling_feature_ids[i:i+10])\n",
    "\n",
    "    print(\"\\n\")\n",
    "    \n",
    "else:\n",
    "    print(\"No data found or unexpected data structure\", \"\\n\")"
   ]
  },
  {
   "attachments": {},
   "cell_type": "markdown",
   "metadata": {},
   "source": [
    "[Back to Table of contects](#table)"
   ]
  },
  {
   "attachments": {},
   "cell_type": "markdown",
   "metadata": {},
   "source": [
    "***"
   ]
  },
  {
   "attachments": {},
   "cell_type": "markdown",
   "metadata": {},
   "source": [
    "#### <a name=\"extract2\"></a>Extract all the data using the SampleID's"
   ]
  },
  {
   "cell_type": "code",
   "execution_count": null,
   "metadata": {},
   "outputs": [],
   "source": [
    "# Create an empty DataFrame to store all measurement data\n",
    "measurement_data = pd.DataFrame()"
   ]
  },
  {
   "cell_type": "code",
   "execution_count": null,
   "metadata": {},
   "outputs": [],
   "source": [
    "# Create an integer progress bar widget\n",
    "progress_bar = widgets.IntProgress(\n",
    "    value=0,\n",
    "    min=0,\n",
    "    max=len(sampling_feature_ids),\n",
    "    description='Loading:',\n",
    "    bar_style='info',\n",
    "    style={'bar_color': 'maroon'},\n",
    "    orientation='horizontal'\n",
    ")\n",
    "\n",
    "# Display the progress bar\n",
    "display(progress_bar)\n",
    "\n",
    "# Iterate over the list of SamplingFeatureIDs\n",
    "for index, sampling_feature_id in enumerate(sampling_feature_ids):\n",
    "    # Get the selected keys from the checkboxes\n",
    "    selected_keys = get_selected_keys(checkboxes)\n",
    "\n",
    "    # Get the measurement data for the current SamplingFeatureID using the selected keys\n",
    "    df = get_measurement_data(my_app.api.api_key, sampling_feature_id, selected_keys)\n",
    "\n",
    "    # Check if the dataframe is not empty and not None\n",
    "    if df is not None and not df.empty:\n",
    "        # Add the SampleID to the dataframe\n",
    "        df['SampleID'] = sampling_feature_id\n",
    "\n",
    "        # Append the dataframe to the measurement_data DataFrame\n",
    "        measurement_data = measurement_data._append(df, ignore_index=True)\n",
    "\n",
    "    # Update the progress bar value\n",
    "    progress_bar.value = index + 1"
   ]
  },
  {
   "attachments": {},
   "cell_type": "markdown",
   "metadata": {},
   "source": [
    "[Back to Table of contects](#table)"
   ]
  },
  {
   "attachments": {},
   "cell_type": "markdown",
   "metadata": {},
   "source": [
    "***"
   ]
  },
  {
   "attachments": {},
   "cell_type": "markdown",
   "metadata": {},
   "source": [
    "#### <a name=\"strucdata\"></a>Structure and pivot the dataset"
   ]
  },
  {
   "cell_type": "code",
   "execution_count": null,
   "metadata": {},
   "outputs": [],
   "source": [
    "# Group and aggregate the measurement data\n",
    "grouped_data = measurement_data.groupby(['SampleID', 'Item_Name'])['Values'].apply(list).reset_index()\n",
    "\n",
    "# Pivot the DataFrame\n",
    "pivot_df = grouped_data.pivot(index='SampleID', columns='Item_Name', values='Values')\n",
    "\n",
    "# Now we convert the lists into individual elements (since there is only one entry per group)\n",
    "for col in pivot_df.columns:\n",
    "    pivot_df[col] = pivot_df[col].str[0]\n",
    "\n",
    "# Extract 'Longitude', 'Latitude', 'Units', 'Item_Group', and 'SampleName' for each 'SampleID'\n",
    "additional_columns_df = measurement_data.drop_duplicates(subset='SampleID')[['SampleID', 'Longitude', 'Latitude', 'Units', 'Item_Group', 'SampleName']]\n",
    "\n",
    "# Merge the data with the original data to add the additional columns\n",
    "final_df = pd.merge(pivot_df.reset_index(), additional_columns_df, on='SampleID', how='left')\n",
    "\n",
    "# Reset the index\n",
    "final_df.reset_index(drop=True, inplace=True)"
   ]
  },
  {
   "cell_type": "code",
   "execution_count": null,
   "metadata": {},
   "outputs": [],
   "source": [
    "# Set the maximum number of rows to display in pandas DataFrame\n",
    "pd.set_option('display.max_rows', None)\n",
    "# Set the maximum number of columns to display in pandas DataFrame\n",
    "pd.set_option('display.max_columns', None)\n",
    "\n",
    "# Display the final_df DataFrame\n",
    "final_df"
   ]
  },
  {
   "attachments": {},
   "cell_type": "markdown",
   "metadata": {},
   "source": [
    "[Back to Table of contects](#table)"
   ]
  },
  {
   "attachments": {},
   "cell_type": "markdown",
   "metadata": {},
   "source": [
    "***"
   ]
  },
  {
   "attachments": {},
   "cell_type": "markdown",
   "metadata": {},
   "source": [
    "#### <a name=\"plotmap\"></a>Plot the data on a map"
   ]
  },
  {
   "cell_type": "code",
   "execution_count": null,
   "metadata": {},
   "outputs": [],
   "source": [
    "def plot_coordinates_on_map(final_df):\n",
    "    # Create a geopandas dataframe\n",
    "    gdf = gpd.GeoDataFrame(\n",
    "        final_df,\n",
    "        geometry=gpd.points_from_xy(final_df.Longitude, final_df.Latitude))\n",
    "    gdf.crs = 'EPSG:4326'  # Set the initial CRS (Coordinate Reference System) to WGS84\n",
    "\n",
    "    # Reproject the data to match the CRS used by contextily\n",
    "    gdf_web_mercator = gdf.to_crs(epsg=3857)\n",
    "\n",
    "    # Create the base map\n",
    "    fig, ax = plt.subplots(figsize=(10, 10))\n",
    "\n",
    "    # Plot markers on the map with sample IDs\n",
    "    for _, row in gdf_web_mercator.iterrows():\n",
    "        ax.scatter(\n",
    "            row['geometry'].x,\n",
    "            row['geometry'].y,\n",
    "            color='red',\n",
    "            edgecolors='black',\n",
    "            marker='^',\n",
    "            s=25\n",
    "        ) \n",
    "        \n",
    "    # Set the map extent to match the data\n",
    "    ax.set_xlim(gdf_web_mercator.total_bounds[0] - 60000, gdf_web_mercator.total_bounds[2] + 60000)\n",
    "    ax.set_ylim(gdf_web_mercator.total_bounds[1] - 70000, gdf_web_mercator.total_bounds[3] + 12000)\n",
    "\n",
    "    # Add satellite imagery from OpenStreetMap\n",
    "    ctx.add_basemap(ax, source=ctx.providers.Esri.OceanBasemap, zoom='auto')\n",
    "\n",
    "    # Add title and axis labels\n",
    "    ax.set_title('Map of the island of Hawaii', fontsize=16)\n",
    "    ax.set_xlabel('Longitude')\n",
    "    ax.set_ylabel('Latitude')\n",
    "\n",
    "    # Plot sample IDs with adjustText\n",
    "    texts = []\n",
    "    for _, row in gdf_web_mercator.iterrows():\n",
    "        texts.append(\n",
    "            plt.text(\n",
    "                row['geometry'].x,\n",
    "                row['geometry'].y,\n",
    "                str(row['SampleID']),\n",
    "                fontsize=8,\n",
    "                color='black',\n",
    "                ha='center')\n",
    "        )\n",
    "\n",
    "    # Adjust the text positions\n",
    "    adjust_text(texts)\n",
    "\n",
    "    description = \"Dredge haul locations are shown by the dot symbols for each vulcano.\"\n",
    "    plt.figtext(0.5, 0.02, description, ha='center', fontsize=10)\n",
    "\n",
    "    # Save and show the map\n",
    "    plt.savefig(\"plot_hawaii.png\")\n",
    "    plt.show()\n",
    "\n",
    "# Plot coordinates on the map using the measurement_data DataFrame\n",
    "plot_coordinates_on_map(final_df)"
   ]
  },
  {
   "attachments": {},
   "cell_type": "markdown",
   "metadata": {},
   "source": [
    "[Back to Table of contects](#table)"
   ]
  },
  {
   "attachments": {},
   "cell_type": "markdown",
   "metadata": {},
   "source": [
    "***"
   ]
  },
  {
   "attachments": {},
   "cell_type": "markdown",
   "metadata": {},
   "source": [
    "#### <a name=\"plotfeotS\"></a> Plot FeO* against S"
   ]
  },
  {
   "cell_type": "code",
   "execution_count": null,
   "metadata": {},
   "outputs": [],
   "source": [
    "# List of columns to exclude\n",
    "exclude_columns = ['Longitude', 'Latitude', 'Units', 'Item_Group', 'H2O', 'CH4', 'CL', 'CO1', 'CO2', 'D18O', 'DD']\n",
    "# List of columns to include\n",
    "included_columns = [col for col in final_df.columns if col not in exclude_columns]\n",
    "\n",
    "# Lists of markers and colors for scatter plot\n",
    "markers = ['o'] * 3 + ['o'] * 10 + ['^'] * 23 + ['s'] * 3 + ['s'] * 3\n",
    "colors = ['b'] * 3 + ['r'] * 10 + ['g'] * 23 + ['y'] * 3 + ['c'] * 3\n",
    "\n",
    "# Sample IDs for ellipses\n",
    "sampleids_ellipse1 = [511]\n",
    "sampleids_ellipse2 = [482]\n",
    "sampleids_ellipse3 = [476]\n",
    "\n",
    "# Initialize variables for the ellipses outside of the loop\n",
    "ellipse_center_1 = None\n",
    "ellipse_width_1 = 0\n",
    "ellipse_height_1 = 0\n",
    "ellipse_angle_1 = 0\n",
    "\n",
    "ellipse_center_2 = None\n",
    "ellipse_width_2 = 0\n",
    "ellipse_height_2 = 0\n",
    "ellipse_angle_2 = 0\n",
    "\n",
    "ellipse_center_3 = None\n",
    "ellipse_width_3 = 0\n",
    "ellipse_height_3 = 0\n",
    "ellipse_angle_3 = 0\n",
    "\n",
    "# Set the figure size\n",
    "plt.figure(figsize=(10, 8))\n",
    "\n",
    "# Loop through the rows of the final_df DataFrame\n",
    "for i in range(len(final_df)):\n",
    "    # Plot the scatterplot\n",
    "    sns.scatterplot(x=final_df['FEOT'].iloc[i:i+1], y=final_df['S'].iloc[i:i+1],\n",
    "                    marker=markers[i], color=colors[i])\n",
    "\n",
    "    # Get the sample ID for the current row\n",
    "    sampleid = final_df['SampleID'].iloc[i]\n",
    "\n",
    "    # Add ellipses for specific sample IDs\n",
    "    if sampleid in sampleids_ellipse1:\n",
    "        if ellipse_center_1 is None:\n",
    "            # Set the center, width, height, and angle for ellipse 1\n",
    "            ellipse_center_1 = (final_df['FEOT'].iloc[i], final_df['S'].iloc[i])\n",
    "            ellipse_width_1 = 2.5\n",
    "            ellipse_height_1 = 0.05\n",
    "            ellipse_angle_1 = 0\n",
    "\n",
    "        # Create and add ellipse 1 to the plot\n",
    "        ellipse_1 = Ellipse(ellipse_center_1, \n",
    "                            ellipse_width_1, \n",
    "                            ellipse_height_1, \n",
    "                            angle=ellipse_angle_1, \n",
    "                            edgecolor='black', \n",
    "                            facecolor='none', \n",
    "                            linestyle='dashed'\n",
    "                            )\n",
    "        plt.gca().add_patch(ellipse_1)\n",
    "\n",
    "    if sampleid in sampleids_ellipse2:\n",
    "        if ellipse_center_2 is None:\n",
    "            # Set the center, width, height, and angle for ellipse 2\n",
    "            ellipse_center_2 = (final_df['FEOT'].iloc[i], final_df['S'].iloc[i])\n",
    "            ellipse_width_2 = 1.5\n",
    "            ellipse_height_2 = 0.1\n",
    "            ellipse_angle_2 = 0.1\n",
    "\n",
    "        # Create and add ellipse 2 to the plot\n",
    "        ellipse_2 = Ellipse(ellipse_center_2, \n",
    "                            ellipse_width_2, \n",
    "                            ellipse_height_2, \n",
    "                            angle=ellipse_angle_2, \n",
    "                            edgecolor='black', \n",
    "                            facecolor='none', \n",
    "                            linestyle='dotted'\n",
    "                            )\n",
    "        plt.gca().add_patch(ellipse_2)\n",
    "\n",
    "    if sampleid in sampleids_ellipse3:\n",
    "        if ellipse_center_3 is None:\n",
    "            # Set the center, width, height, and angle for ellipse 3\n",
    "            ellipse_center_3 = (final_df['FEOT'].iloc[i], final_df['S'].iloc[i])\n",
    "            ellipse_width_3 = 1.0\n",
    "            ellipse_height_3 = 0.13\n",
    "            ellipse_angle_3 = 0.8\n",
    "\n",
    "        # Create and add ellipse 3 to the plot\n",
    "        ellipse_3 = Ellipse(ellipse_center_3, \n",
    "                            ellipse_width_3, \n",
    "                            ellipse_height_3, \n",
    "                            angle=ellipse_angle_3, \n",
    "                            edgecolor='black', \n",
    "                            facecolor='none', \n",
    "                            linestyle='dashdot'\n",
    "                            )\n",
    "        plt.gca().add_patch(ellipse_3)\n",
    "\n",
    "# Add legend, title, and axis labels to the plot\n",
    "plt.legend(handles=[ellipse_1, ellipse_2, ellipse_3], labels=['MAUNA LOA', 'KILAUEA', 'LOIHI'], loc='upper left')\n",
    "plt.title(\"FeO* vs. S\")\n",
    "plt.xlabel(\"FeO*\")\n",
    "plt.ylabel(\"S\")\n",
    "\n",
    "# Optionally, restrict the range of the x-axis and y-axis\n",
    "plt.xlim(9, 13)\n",
    "plt.ylim(0, 0.2)\n",
    "\n",
    "# Save the plot as an image\n",
    "plt.savefig('plot_FEOT_vs_S.png')\n",
    "\n",
    "# Display the plot\n",
    "plt.show()"
   ]
  },
  {
   "attachments": {},
   "cell_type": "markdown",
   "metadata": {},
   "source": [
    "[Back to Table of contects](#table)"
   ]
  },
  {
   "attachments": {},
   "cell_type": "markdown",
   "metadata": {},
   "source": [
    "***"
   ]
  },
  {
   "attachments": {},
   "cell_type": "markdown",
   "metadata": {},
   "source": [
    "#### <a name=\"plottas\"></a> Plot the data in the TAS diagram"
   ]
  },
  {
   "cell_type": "code",
   "execution_count": null,
   "metadata": {},
   "outputs": [],
   "source": [
    "# Adding a new column 'K2O+NA2O' to the final_df DataFrame\n",
    "final_df['K2O+NA2O'] = final_df['K2O'] + final_df['NA2O']\n",
    "\n",
    "# Creating a list of markers\n",
    "markers = ['o'] * 3 + ['o'] * 10 + ['^'] * 23 + ['s'] * 3 + ['s'] * 3\n",
    "# Creating a list of colors\n",
    "colors = ['b'] * 3 + ['r'] * 10 + ['g'] * 23 + ['y'] * 3 + ['c'] * 3\n",
    "\n",
    "# Setting the figure size\n",
    "plt.figure(figsize=(7, 6))\n",
    "\n",
    "# Plotting scatterplots for each row in final_df\n",
    "for i in range(len(final_df)):\n",
    "    sns.scatterplot(x=final_df['SIO2'].iloc[i:i+1], y=final_df['K2O+NA2O'].iloc[i:i+1],\n",
    "                    marker=markers[i], color=colors[i], s=45)\n",
    "\n",
    "# Adding a line and text annotations to the plot\n",
    "x_values = [48, 50.3]\n",
    "y_values = [3.15, 3.8]\n",
    "plt.plot(x_values, y_values, color='k', linewidth=0.5)\n",
    "plt.text(49.2, 3.6, 'ALKALIC', ha='right', fontsize=14)\n",
    "plt.text(51.5, 3.6, 'THOLEIITIC', ha='right', fontsize=14)\n",
    "\n",
    "# Adding title and axis labels to the plot\n",
    "plt.title(\"$SiO_2$ vs. $K_2O+Na_2O$\")\n",
    "plt.xlabel(\"$S1O_2$ [Wt%]\")\n",
    "plt.ylabel(\"$K_2O+Na_2O$ [Wt%]\")\n",
    "\n",
    "# Optionally, restricting the range of the axes\n",
    "plt.xlim(48, 53)\n",
    "plt.ylim(2.4, 3.8)\n",
    "\n",
    "# Displaying the plot\n",
    "plt.show()"
   ]
  },
  {
   "attachments": {},
   "cell_type": "markdown",
   "metadata": {},
   "source": [
    "[Back to Table of contects](#table)"
   ]
  },
  {
   "attachments": {},
   "cell_type": "markdown",
   "metadata": {},
   "source": [
    "***"
   ]
  },
  {
   "attachments": {},
   "cell_type": "markdown",
   "metadata": {},
   "source": [
    "### <a name=\"refs\"></a>References"
   ]
  },
  {
   "attachments": {},
   "cell_type": "markdown",
   "metadata": {},
   "source": [
    "[1] Garcia, M. O., Muenow, D. W., Aggrey, K. E., and O'Neil, J. R. (1989), Major element, volatile, and stable isotope geochemistry <br/> of Hawaiian submarine tholeiitic   glasses, J. Geophys. Res., 94( B8), 10525– 10538, doi:10.1029/JB094iB08p10525. \n",
    "\n",
    "[2] requests - Python HTTP library for humans. [Online]. Available: https://requests.readthedocs.io\n",
    "\n",
    "[3] json - This is part of Python's standard library. Python Software Foundation. Python Language Reference, version 3.x. <br/> Available at http://www.python.org\n",
    "\n",
    "[4] pandas - Wes McKinney. Data Structures for Statistical Computing in Python, Proceedings of the 9th Python in Science <br/> Conference, 51-56 (2010) [Online]. Available: https://pandas.pydata.org\n",
    "\n",
    "[5] geopandas - GeoPandas developers. GeoPandas: Python tools for geographic data [Online]. Available: https://geopandas.org\n",
    "\n",
    "[6] seaborn - Michael Waskom, Olga Botvinnik, Drew O’Kane, Paul Hobson, Joel Ostblom, Saulius Lukauskas, ... & Tom Augspurger. <br/> (2020, October 4). mwaskom/seaborn: v0.11.0 (Version v0.11.0). Zenodo. http://doi.org/10.5281/zenodo.4019147\n",
    "\n",
    "[7] matplotlib - John D. Hunter. Matplotlib: A 2D Graphics Environment, Computing in Science & Engineering, 9, <br/> 90-95 (2007), DOI:10.1109/MCSE.2007.55\n",
    "\n",
    "[8] contextily - Darribas, D., Arribas-Bel, D., Nshan, B., & van den Bosch, M. (2020). contextily: context geo-tiles in Python. <br/> Journal of Open Source Software, 5(55), 2302. https://doi.org/10.21105/joss.02302\n",
    "\n",
    "[9] adjustText - Ilya Flyamer. (2016). adjustText: A small library for automatically adjusting text position in matplotlib plots to minimize <br/> overlaps. Zenodo. http://doi.org/10.5281/zenodo.4922517\n",
    "\n",
    "[10] ipywidgets - Project Jupyter. (2017). ipywidgets: Interactive HTML widgets for Jupyter notebooks and the IPython kernel. <br/> Zenodo. https://doi.org/10.5281/zenodo.836874\n",
    "\n",
    "[Back to Table of contects](#table)"
   ]
  },
  {
   "attachments": {},
   "cell_type": "markdown",
   "metadata": {},
   "source": [
    "***"
   ]
  },
  {
   "attachments": {},
   "cell_type": "markdown",
   "metadata": {},
   "source": [
    "### <a name=\"qrcode\"></a>QR code for accessing this Jupyter notebook on Binder"
   ]
  },
  {
   "attachments": {},
   "cell_type": "markdown",
   "metadata": {},
   "source": [
    "<img src=\"https://raw.githubusercontent.com/tmwProjects/Georoc_jupyter/main/BINDER_JUPYTER_QR.png\" style=\"height:610px\" align=\"left\"/> <br><br>"
   ]
  },
  {
   "attachments": {},
   "cell_type": "markdown",
   "metadata": {},
   "source": [
    "##### <a name=\"hint3\"></a>Hint:\n",
    "- In some cases, Binder may not work the first time it is started. Then simply restart the link again."
   ]
  },
  {
   "attachments": {},
   "cell_type": "markdown",
   "metadata": {},
   "source": [
    "***"
   ]
  },
  {
   "attachments": {},
   "cell_type": "markdown",
   "metadata": {},
   "source": [
    "### <a name=\"follow\"></a>Follow us\n",
    "\n",
    "[Visit our Website](https://georoc.mpch-mainz.gwdg.de/georoc/)\n",
    "\n",
    "![Twitter Follow](https://img.shields.io/twitter/follow/DIGISgeo?style=social)"
   ]
  },
  {
   "attachments": {},
   "cell_type": "markdown",
   "metadata": {},
   "source": [
    "[Back to Table of contects](#table)"
   ]
  },
  {
   "attachments": {},
   "cell_type": "markdown",
   "metadata": {},
   "source": [
    "***"
   ]
  }
 ],
 "metadata": {
  "kernelspec": {
   "display_name": "Python 3",
   "language": "python",
   "name": "python3"
  },
  "language_info": {
   "codemirror_mode": {
    "name": "ipython",
    "version": 3
   },
   "file_extension": ".py",
   "mimetype": "text/x-python",
   "name": "python",
   "nbconvert_exporter": "python",
   "pygments_lexer": "ipython3",
   "version": "3.11.2"
  },
  "orig_nbformat": 4
 },
 "nbformat": 4,
 "nbformat_minor": 2
}

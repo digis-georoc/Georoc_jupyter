{
 "cells": [
  {
   "attachments": {},
   "cell_type": "markdown",
   "metadata": {},
   "source": [
    "<img src=\"https://pbs.twimg.com/media/E0m6c9FX0AIX0p1.png\" style=\"height:150px\" align=\"left\"/> <br><br>\n",
    "\n",
    "<br/>\n",
    "<br/>\n",
    "<br/>\n",
    "<br/>\n",
    "<br/>\n",
    "\n",
    "### Common data cleaning methods\n",
    "\n",
    "***\n",
    "\n",
    "The GEOROC Database (Geochemistry of Rocks of the Oceans and Continents) is a comprehensive collection of published analyses <br/> of igneous and metamorphic rocks and minerals. It contains major and trace element concentrations, radiogenic and nonradiogenic <br/> isotope ratios as well as analytical ages for whole rocks, glasses, minerals and inclusions. Metadata include geospatial and other <br/> sample information, analytical details and references.\n",
    "\n",
    "The GEOROC Database was established at the Max Planck Institute for Chemistry in Mainz (Germany). In 2021, the database was <br/> moved to Göttingen University, where it continues to be curated as part of the DIGIS project of the Department of Geochemistry and <br/> Isotope Geology at the Geoscience Centre (GZG) and the University and State Library (SUB). Development for GEOROC 2.0 <br/> includes a new data model for greater interoperability, options to contribute data, and improved access to the database.\n",
    "\n",
    "As part of the DIGIS project, a new API interface has been created for the GEOROC database, allowing easy access to its contents <br/>\n",
    "with simple programming skills. Users can now query the database and retrieve data using the new API, making it more accessible <br/>\n",
    "and useful for researchers and other interested parties. This notebook demonstrates the basic capabilities of GEOROC data access <br/> via the new DIGIS API. \n",
    "\n",
    "For feedback, questions and further information contact [Digis-Info](mailto:digis-info@uni-goettingen.de) directly.\n",
    "\n",
    "This notebook demonstrates the basic capabilities of common data cleaning methods in geoscience.\n",
    "\n",
    "***\n",
    "\n",
    "April 2023, Dr. Marthe Klöcking, Timm M. Wirtz\n",
    "\n",
    "<img src=\"https://mirrors.creativecommons.org/presskit/buttons/88x31/png/by-nc-sa.png\" style=\"height:50px\" align=\"left\"/> <br><br>\n",
    "\n",
    "https://creativecommons.org/licenses/by-nc-sa/4.0/"
   ]
  },
  {
   "attachments": {},
   "cell_type": "markdown",
   "metadata": {},
   "source": [
    "***"
   ]
  },
  {
   "attachments": {},
   "cell_type": "markdown",
   "metadata": {},
   "source": [
    "### <a name=\"table\"></a>Table of contents\n",
    "\n",
    "* [Import modules](#import)\n",
    "* [Store your API key](#store)\n",
    "        * [Hint](#hint)\n",
    "* [Select the data that should be in the dataset](#select)\n",
    "        * [Hint](#hint2)\n",
    "* [Check if there is a connection to the API](#check)\n",
    "* [Select the filters to search for desired data](#filters)\n",
    "* [Extract the necessary SampleID's](#extract1)\n",
    "* [Extract all the data using the SampleID's](#extract2)\n",
    "* [Structure and pivot the dataset](#strucdata)\n",
    "* [Plot the data on a map](#plotmap)\n",
    "* [Plot FeO* against S](#plotfeotS)\n",
    "* [Plot the data in the TAS diagram](#plottas)\n",
    "* [References](#refs)\n",
    "* [QR code for accessing this Jupyter notebook](#qrcode)\n",
    "        * [Hint](#hint3)"
   ]
  },
  {
   "attachments": {},
   "cell_type": "markdown",
   "metadata": {},
   "source": [
    "***"
   ]
  },
  {
   "attachments": {},
   "cell_type": "markdown",
   "metadata": {},
   "source": [
    "#### <a name=\"import\"></a>Import modules"
   ]
  },
  {
   "cell_type": "code",
   "execution_count": null,
   "metadata": {},
   "outputs": [],
   "source": [
    "import requests\n",
    "import json\n",
    "import pandas as pd\n",
    "import geopandas as gpd\n",
    "import seaborn as sns\n",
    "import matplotlib.pyplot as plt\n",
    "from matplotlib.patches import Ellipse\n",
    "import contextily as ctx\n",
    "from adjustText import adjust_text\n",
    "from ipywidgets import widgets\n",
    "from ipywidgets import Layout\n",
    "from ipywidgets import IntProgress, Layout, HBox, Label\n",
    "from ipywidgets import Button\n",
    "from functions.widgets import *\n",
    "from functions.georoc_api import GeoRocAPI\n",
    "from functions.app import MyApp\n",
    "from functions.utils import *"
   ]
  },
  {
   "attachments": {},
   "cell_type": "markdown",
   "metadata": {},
   "source": [
    "#### <a name=\"store\"></a> Store your API key"
   ]
  },
  {
   "attachments": {},
   "cell_type": "markdown",
   "metadata": {},
   "source": []
  },
  {
   "cell_type": "code",
   "execution_count": null,
   "metadata": {},
   "outputs": [],
   "source": [
    "my_app = MyApp()"
   ]
  },
  {
   "attachments": {},
   "cell_type": "markdown",
   "metadata": {},
   "source": [
    "##### <a name=\"hint\"></a>Hint:\n",
    "- textetextetexte"
   ]
  },
  {
   "attachments": {},
   "cell_type": "markdown",
   "metadata": {},
   "source": [
    "#### <a name=\"select\"></a> Select the data that should be in the dataset"
   ]
  },
  {
   "attachments": {},
   "cell_type": "markdown",
   "metadata": {},
   "source": []
  },
  {
   "cell_type": "code",
   "execution_count": null,
   "metadata": {},
   "outputs": [],
   "source": [
    "display(grid)"
   ]
  },
  {
   "attachments": {},
   "cell_type": "markdown",
   "metadata": {},
   "source": [
    "##### <a name=\"hint2\"></a>Hint:\n",
    "- textetextetexte"
   ]
  },
  {
   "attachments": {},
   "cell_type": "markdown",
   "metadata": {},
   "source": [
    "#### <a name=\"check\"></a>Check if there is a connection to the API"
   ]
  },
  {
   "cell_type": "code",
   "execution_count": null,
   "metadata": {},
   "outputs": [],
   "source": [
    "def check_api_connection():\n",
    "    endpoint = \"ping\"\n",
    "    response = my_app.api.api_query(endpoint)\n",
    "\n",
    "    if response is not None:\n",
    "        print(\"Connection to API server successful!\\n\")\n",
    "    else:\n",
    "        print(\"Failed to connect to API server!\\n\")\n",
    "        exit(1)\n",
    "\n",
    "check_api_connection()"
   ]
  },
  {
   "attachments": {},
   "cell_type": "markdown",
   "metadata": {},
   "source": [
    "#### <a name=\"filters\"></a> Select the filters to search for desired data"
   ]
  },
  {
   "cell_type": "code",
   "execution_count": null,
   "metadata": {},
   "outputs": [],
   "source": [
    "display(grid2)"
   ]
  },
  {
   "attachments": {},
   "cell_type": "markdown",
   "metadata": {},
   "source": []
  },
  {
   "attachments": {},
   "cell_type": "markdown",
   "metadata": {},
   "source": [
    "***"
   ]
  },
  {
   "attachments": {},
   "cell_type": "markdown",
   "metadata": {},
   "source": [
    "#### <a name=\"extract1\"></a>Extract the necessary SampleID's"
   ]
  },
  {
   "cell_type": "code",
   "execution_count": null,
   "metadata": {},
   "outputs": [],
   "source": [
    "filtered_samples_combined = my_app.api.get_filtered_samples(\n",
    "    limit=limit_widget.value, \n",
    "    offset=offset_widget.value, \n",
    "    location1=location1_widget.value,\n",
    "    location2=location2_widget.value,\n",
    "    location3=location3_widget.value,\n",
    "    setting=setting_widget.value,\n",
    "    latitude=latitude_widget.value,\n",
    "    longitude=longitude_widget.value,\n",
    "    rocktype=rocktype_widget.value,\n",
    "    rockclass=rockclass_widget.value,\n",
    "    mineral=mineral_widget.value,\n",
    "    material=material_widget.value,\n",
    "    inclusiontype=inclusiontype_widget.value,\n",
    "    sampletech=sampletech_widget.value,\n",
    "    element=element_widget.value,\n",
    "    elementtype=elementtype_widget.value,\n",
    "    value=value_widget.value,\n",
    "    title=title_widget.value,\n",
    "    publicationyear=publicationyear_widget.value,\n",
    "    doi=doi_widget.value,\n",
    "    firstname=firstname_widget.value,\n",
    "    lastname=lastname_widget.value,\n",
    "    agemin=agemin_widget.value,\n",
    "    agemax=agemax_widget.value,\n",
    "    geoage=geoage_widget.value,\n",
    "    geoageprefix=geoageprefix_widget.value,\n",
    "    lab=lab_widget.value\n",
    ")\n",
    "\n",
    "if 'Data' in filtered_samples_combined:\n",
    "    print(\"\\n\")\n",
    "    for item in filtered_samples_combined['Data']:\n",
    "        print(str(item))\n",
    "    print(\"\\n\")\n",
    "else:\n",
    "    print(\"No data found or unexpected data structure\", \"\\n\")"
   ]
  },
  {
   "cell_type": "code",
   "execution_count": null,
   "metadata": {},
   "outputs": [],
   "source": [
    "if \"Data\" in filtered_samples_combined and filtered_samples_combined[\"Data\"]:\n",
    "    sampling_feature_ids = [sample[\"SampleID\"] for sample in filtered_samples_combined[\"Data\"]]\n",
    "    \n",
    "    print(\"\\n\", \"The extracted SampleIDs are:\")\n",
    "    \n",
    "    # Drucken Sie die SampleIDs in Gruppen von 10 mit einem Zeilenumbruch nach jeder Gruppe\n",
    "    for i in range(0, len(sampling_feature_ids), 10):\n",
    "        print(sampling_feature_ids[i:i+10])\n",
    "\n",
    "    print(\"\\n\")\n",
    "    \n",
    "else:\n",
    "    print(\"No data found or unexpected data structure\", \"\\n\")"
   ]
  },
  {
   "attachments": {},
   "cell_type": "markdown",
   "metadata": {},
   "source": [
    "***"
   ]
  },
  {
   "attachments": {},
   "cell_type": "markdown",
   "metadata": {},
   "source": [
    "#### <a name=\"extract2\"></a>Extract all the data using the SampleID's"
   ]
  },
  {
   "cell_type": "code",
   "execution_count": null,
   "metadata": {},
   "outputs": [],
   "source": [
    "# Create an empty DataFrame to store all measurement data\n",
    "measurement_data = pd.DataFrame()"
   ]
  },
  {
   "cell_type": "code",
   "execution_count": null,
   "metadata": {},
   "outputs": [],
   "source": [
    "progress_bar = widgets.IntProgress(\n",
    "    value=0,\n",
    "    min=0,\n",
    "    max=len(sampling_feature_ids),\n",
    "    description='Loading:',\n",
    "    bar_style='info',\n",
    "    style={'bar_color': 'maroon'},\n",
    "    orientation='horizontal'\n",
    ")\n",
    "\n",
    "display(progress_bar)\n",
    "\n",
    "# Iterate over the list of SamplingFeatureIDs\n",
    "for index, sampling_feature_id in enumerate(sampling_feature_ids):\n",
    "    # Get the selected keys from the checkboxes\n",
    "    selected_keys = get_selected_keys(checkboxes)\n",
    "\n",
    "    # Get the measurement data for the current SamplingFeatureID using the selected keys\n",
    "    df = get_measurement_data(my_app.api.api_key, sampling_feature_id, selected_keys)\n",
    "\n",
    "    # Check if the dataframe is not empty and not None\n",
    "    if df is not None and not df.empty:\n",
    "        # Add the SampleID to the dataframe\n",
    "        df['SampleID'] = sampling_feature_id\n",
    "        \n",
    "        # Append the dataframe to the measurement_data DataFrame\n",
    "        measurement_data = measurement_data._append(df, ignore_index=True)\n",
    "\n",
    "    # Update the progress bar\n",
    "    progress_bar.value = index + 1"
   ]
  },
  {
   "attachments": {},
   "cell_type": "markdown",
   "metadata": {},
   "source": []
  },
  {
   "attachments": {},
   "cell_type": "markdown",
   "metadata": {},
   "source": [
    "***"
   ]
  },
  {
   "attachments": {},
   "cell_type": "markdown",
   "metadata": {},
   "source": [
    "#### <a name=\"strucdata\"></a>Structure and pivot the dataset"
   ]
  },
  {
   "cell_type": "code",
   "execution_count": null,
   "metadata": {},
   "outputs": [],
   "source": [
    "# Gruppieren und Aggregieren der Messdaten\n",
    "grouped_data = measurement_data.groupby(['SampleID', 'Item_Name'])['Values'].apply(list).reset_index()\n",
    "\n",
    "# Pivotieren des DataFrames\n",
    "pivot_df = grouped_data.pivot(index='SampleID', columns='Item_Name', values='Values')\n",
    "\n",
    "# Jetzt konvertieren wir die Listen in einzelne Elemente (da es nur einen Eintrag pro Gruppe gibt)\n",
    "for col in pivot_df.columns:\n",
    "    pivot_df[col] = pivot_df[col].str[0]\n",
    "\n",
    "# Extrahieren der 'Longitude', 'Latitude', 'Units', 'Item_Group' und 'SampleName' für jede 'SampleID'\n",
    "additional_columns_df = measurement_data.drop_duplicates(subset='SampleID')[['SampleID', 'Longitude', 'Latitude', 'Units', 'Item_Group', 'SampleName']]\n",
    "\n",
    "# Zusammenführen der Daten mit den ursprünglichen Daten, um die zusätzlichen Spalten hinzuzufügen\n",
    "final_df = pd.merge(pivot_df.reset_index(), additional_columns_df, on='SampleID', how='left')\n",
    "\n",
    "# Zurücksetzen des Index\n",
    "final_df.reset_index(drop=True, inplace=True)"
   ]
  },
  {
   "cell_type": "code",
   "execution_count": null,
   "metadata": {},
   "outputs": [],
   "source": [
    "pd.set_option('display.max_rows', None)\n",
    "pd.set_option('display.max_columns', None)\n",
    "\n",
    "final_df"
   ]
  },
  {
   "attachments": {},
   "cell_type": "markdown",
   "metadata": {},
   "source": []
  },
  {
   "attachments": {},
   "cell_type": "markdown",
   "metadata": {},
   "source": [
    "***"
   ]
  },
  {
   "attachments": {},
   "cell_type": "markdown",
   "metadata": {},
   "source": [
    "#### <a name=\"plotmap\"></a>Plot the data on a map"
   ]
  },
  {
   "cell_type": "code",
   "execution_count": null,
   "metadata": {},
   "outputs": [],
   "source": [
    "def plot_coordinates_on_map(final_df):\n",
    "    # Create a geopandas dataframe\n",
    "    gdf = gpd.GeoDataFrame(\n",
    "        final_df,\n",
    "        geometry=gpd.points_from_xy(final_df.Longitude, final_df.Latitude))\n",
    "    gdf.crs = 'EPSG:4326'  # Set the initial CRS (Coordinate Reference System) to WGS84\n",
    "\n",
    "    # Reproject the data to match the CRS used by contextily\n",
    "    gdf_web_mercator = gdf.to_crs(epsg=3857)\n",
    "\n",
    "    # Create the base map\n",
    "    fig, ax = plt.subplots(figsize=(10, 10))\n",
    "\n",
    "    # Plot markers on the map with sample IDs\n",
    "    for _, row in gdf_web_mercator.iterrows():\n",
    "        ax.scatter(\n",
    "            row['geometry'].x,\n",
    "            row['geometry'].y,\n",
    "            color='red',\n",
    "            edgecolors='black',\n",
    "            marker='^',\n",
    "            s=25\n",
    "        ) \n",
    "        \n",
    "    # Set the map extent to match the data\n",
    "    ax.set_xlim(gdf_web_mercator.total_bounds[0] - 60000, gdf_web_mercator.total_bounds[2] + 60000)\n",
    "    ax.set_ylim(gdf_web_mercator.total_bounds[1] - 70000, gdf_web_mercator.total_bounds[3] + 12000)\n",
    "\n",
    "    # Add satellite imagery from OpenStreetMap\n",
    "    ctx.add_basemap(ax, source=ctx.providers.Esri.OceanBasemap, zoom='auto')\n",
    "\n",
    "    # Add title and axis labels\n",
    "    ax.set_title('Map of the island of Hawaii', fontsize=16)\n",
    "    ax.set_xlabel('Longitude')\n",
    "    ax.set_ylabel('Latitude')\n",
    "\n",
    "    # Plot sample IDs with adjustText\n",
    "    texts = []\n",
    "    for _, row in gdf_web_mercator.iterrows():\n",
    "        texts.append(\n",
    "            plt.text(\n",
    "                row['geometry'].x,\n",
    "                row['geometry'].y,\n",
    "                str(row['SampleID']),\n",
    "                fontsize=8,\n",
    "                color='black',\n",
    "                ha='center')\n",
    "        )\n",
    "\n",
    "    # Justiere die Textpositionen\n",
    "    adjust_text(texts)\n",
    "\n",
    "    description = \"Dredge haul locations are shown by the dot symbols for each vulcano.\"\n",
    "    plt.figtext(0.5, 0.02, description, ha='center', fontsize=10)\n",
    "\n",
    "    # Save and show the map\n",
    "    plt.savefig(\"plot_hawaii.png\")\n",
    "    plt.show()\n",
    "\n",
    "# Plot coordinates on the map using the measurement_data DataFrame\n",
    "plot_coordinates_on_map(final_df)"
   ]
  },
  {
   "attachments": {},
   "cell_type": "markdown",
   "metadata": {},
   "source": []
  },
  {
   "attachments": {},
   "cell_type": "markdown",
   "metadata": {},
   "source": [
    "***"
   ]
  },
  {
   "attachments": {},
   "cell_type": "markdown",
   "metadata": {},
   "source": [
    "#### <a name=\"plotfeotS\"></a> Plot FeO* against S"
   ]
  },
  {
   "cell_type": "code",
   "execution_count": null,
   "metadata": {},
   "outputs": [],
   "source": [
    "exclude_columns = ['Longitude', 'Latitude', 'Units', 'Item_Group', 'H2O', 'CH4', 'CL', 'CO1', 'CO2', 'D18O', 'DD']\n",
    "included_columns = [col for col in final_df.columns if col not in exclude_columns]\n",
    "\n",
    "# Eine Liste von Markern und Farben erstellen\n",
    "markers = ['o'] * 3 + ['o'] * 10 + ['^'] * 23 + ['s'] * 3 + ['s'] * 3\n",
    "colors = ['b'] * 3 + ['r'] * 10 + ['g'] * 23 + ['y'] * 3 + ['c'] * 3\n",
    "\n",
    "# SampleIDs für die Ellipsen auswählen\n",
    "sampleids_ellipse1 = [511]\n",
    "sampleids_ellipse2 = [482]\n",
    "sampleids_ellipse3 = [476]\n",
    "\n",
    "# Variablen für die Ellipsen außerhalb der Schleife initialisieren\n",
    "ellipse_center_1 = None\n",
    "ellipse_width_1 = 0\n",
    "ellipse_height_1 = 0\n",
    "ellipse_angle_1 = 0\n",
    "\n",
    "ellipse_center_2 = None\n",
    "ellipse_width_2 = 0\n",
    "ellipse_height_2 = 0\n",
    "ellipse_angle_2 = 0\n",
    "\n",
    "ellipse_center_3 = None\n",
    "ellipse_width_3 = 0\n",
    "ellipse_height_3 = 0\n",
    "ellipse_angle_3 = 0\n",
    "\n",
    "plt.figure(figsize=(10, 8))\n",
    "\n",
    "for i in range(len(final_df)):\n",
    "    sns.scatterplot(x=final_df['FEOT'].iloc[i:i+1], y=final_df['S'].iloc[i:i+1],\n",
    "                    marker=markers[i], color=colors[i])\n",
    "\n",
    "    sampleid = final_df['SampleID'].iloc[i]\n",
    "    if sampleid in sampleids_ellipse1:\n",
    "        if ellipse_center_1 is None:\n",
    "            ellipse_center_1 = (final_df['FEOT'].iloc[i], final_df['S'].iloc[i])\n",
    "            ellipse_width_1 = 2.5  # Anpassen der Breite der Ellipse\n",
    "            ellipse_height_1 = 0.05  # Anpassen der Höhe der Ellipse\n",
    "            ellipse_angle_1 = 0  # Anpassen des Winkels der Ellipse\n",
    "\n",
    "        ellipse_1 = Ellipse(ellipse_center_1, ellipse_width_1, ellipse_height_1, angle=ellipse_angle_1, edgecolor='black', facecolor='none', linestyle='dashed')\n",
    "        plt.gca().add_patch(ellipse_1)\n",
    "\n",
    "    if sampleid in sampleids_ellipse2:\n",
    "        if ellipse_center_2 is None:\n",
    "            ellipse_center_2 = (final_df['FEOT'].iloc[i], final_df['S'].iloc[i])\n",
    "            ellipse_width_2 = 1.5\n",
    "            ellipse_height_2 = 0.1\n",
    "            ellipse_angle_2 = 0.1\n",
    "\n",
    "        ellipse_2 = Ellipse(ellipse_center_2, ellipse_width_2, ellipse_height_2, angle=ellipse_angle_2, edgecolor='black', facecolor='none', linestyle='dotted')\n",
    "        plt.gca().add_patch(ellipse_2)\n",
    "\n",
    "    if sampleid in sampleids_ellipse3:\n",
    "        if ellipse_center_3 is None:\n",
    "            ellipse_center_3 = (final_df['FEOT'].iloc[i], final_df['S'].iloc[i])\n",
    "            ellipse_width_3 = 1.0\n",
    "            ellipse_height_3 = 0.13\n",
    "            ellipse_angle_3 = 0.8\n",
    "\n",
    "        ellipse_3 = Ellipse(ellipse_center_3, ellipse_width_3, ellipse_height_3, angle=ellipse_angle_3, edgecolor='black', facecolor='none', linestyle='dashdot')\n",
    "        plt.gca().add_patch(ellipse_3)\n",
    "\n",
    "# Legende hinzufügen\n",
    "plt.legend(handles=[ellipse_1, ellipse_2, ellipse_3], labels=['MAUNA LOA', 'KILAUEA', 'LOIHI'], loc='upper left')\n",
    "plt.title(\"FeO* vs. S\")\n",
    "plt.xlabel(\"FeO*\")\n",
    "plt.ylabel(\"S\")\n",
    "plt.xlim(9, 13)\n",
    "plt.ylim(0, 0.2)\n",
    "plt.savefig('plot_FEOT_vs_S.png')\n",
    "plt.show()"
   ]
  },
  {
   "attachments": {},
   "cell_type": "markdown",
   "metadata": {},
   "source": []
  },
  {
   "attachments": {},
   "cell_type": "markdown",
   "metadata": {},
   "source": [
    "***"
   ]
  },
  {
   "attachments": {},
   "cell_type": "markdown",
   "metadata": {},
   "source": [
    "#### <a name=\"plottas\"></a> Plot the data in the TAS diagram"
   ]
  },
  {
   "cell_type": "code",
   "execution_count": null,
   "metadata": {},
   "outputs": [],
   "source": [
    "final_df['K2O+NA2O'] = final_df['K2O'] + final_df['NA2O']\n",
    "\n",
    "exclude_columns = ['Longitude', 'Latitude', 'Units', 'Item_Group', 'SampleID', 'H2O', 'CH4', 'CL', 'CO1', 'CO2', 'D18O', 'DD']\n",
    "included_columns = [col for col in final_df.columns if col not in exclude_columns]\n",
    "\n",
    "# Eine Liste von Markern erstellen\n",
    "markers = ['o'] * 3 + ['o'] * 10 + ['^'] * 23 + ['s'] * 3 + ['s'] * 3\n",
    "colors = ['b'] * 3 + ['r'] * 10 + ['g'] * 23 + ['y'] * 3 + ['c'] * 3\n",
    "\n",
    "# Setzen der Figure-Größe\n",
    "plt.figure(figsize=(7, 6))\n",
    "\n",
    "for i in range(len(final_df)):\n",
    "    sns.scatterplot(x=final_df['SIO2'].iloc[i:i+1], y=final_df['K2O+NA2O'].iloc[i:i+1],\n",
    "                    marker=markers[i], color=colors[i], s=45)\n",
    "\n",
    "x_values = [48, 50.3]\n",
    "y_values = [3.15, 3.8]\n",
    "plt.plot(x_values, y_values, color='k', linewidth=0.5)\n",
    "plt.text(49.2, 3.6, 'ALKALIC', ha='right', fontsize=14)\n",
    "plt.text(51.5, 3.6, 'THOLEIITIC', ha='right', fontsize=14)\n",
    "\n",
    "plt.title(\"$SiO_2$ vs. $K_2O+Na_2O$\")\n",
    "plt.xlabel(\"$S1O_2$ [Wt%]\")\n",
    "plt.ylabel(\"$K_2O+Na_2O$ [Wt%]\")\n",
    "\n",
    "# Bereich der Achsen einschränken, wenn gewünscht\n",
    "plt.xlim(48, 53)\n",
    "plt.ylim(2.4, 3.8)\n",
    "plt.show()"
   ]
  },
  {
   "attachments": {},
   "cell_type": "markdown",
   "metadata": {},
   "source": []
  },
  {
   "attachments": {},
   "cell_type": "markdown",
   "metadata": {},
   "source": [
    "***"
   ]
  },
  {
   "attachments": {},
   "cell_type": "markdown",
   "metadata": {},
   "source": [
    "### <a name=\"refs\"></a>References"
   ]
  },
  {
   "attachments": {},
   "cell_type": "markdown",
   "metadata": {},
   "source": [
    "[1] GMT 6: Wessel, P., Luis, J. F., Uieda, L., Scharroo, R., Wobbe, F., Smith, W. H. F., & Tian, D. (2019). The Generic Mapping Tools version 6. Geochemistry, Geophysics, Geosystems, 20, 5556–5564. https://doi.org/10.1029/2019GC008515\n",
    "\n",
    "[2] Uieda, Leonardo, Tian, Dongdong, Leong, Wei Ji, Schlitzer, William, Grund, Michael, Jones, Max, Fröhlich, Yvonne, Toney, Liam, Yao, Jiayuan, Magen, Yohai, Jing-Hui, Tong, Materna, Kathryn, Belem, Andre, Newton, Tyler, Anant, Abhishek, Ziebarth, Malte, Quinn, Jamie, & Wessel, Paul. (2023). PyGMT: A Python interface for the Generic Mapping Tools (v0.9.0). Zenodo. https://doi.org/10.5281/zenodo.7772533\n",
    "\n",
    "[3]  Thomas A Caswell, Antony Lee, Elliott Sales de Andrade, Michael Droettboom, Tim Hoffmann, Jody Klymak, John Hunter, Eric Firing, David Stansby, Nelle Varoquaux, Jens Hedegaard Nielsen, Benjamin Root, Ryan May, Oscar Gustafsson, Phil Elson, Jouni K. Seppänen, Jae-Joon Lee, Darren Dale, hannah, … Charlie Moad. (2023). matplotlib/matplotlib: REL: v3.7.1 (v3.7.1). Zenodo. https://doi.org/10.5281/zenodo.7697899\n",
    "\n",
    "[4] Anenburg, M., & Williams, M. J. (2021). Quantifying the Tetrad Effect, Shape Components, and Ce–Eu–Gd Anomalies in Rare Earth Element Patterns. Mathematical Geosciences. doi: https://doi.org/10.1007/s11004-021-09959-5\n",
    "\n",
    "[5] The pandas development team. (2023). pandas-dev/pandas: Pandas (v2.0.0). Zenodo. https://doi.org/10.5281/zenodo.7794821\n",
    "\n",
    "[6] Harris, C.R., Millman, K.J., van der Walt, S.J. et al. Array programming with NumPy. Nature 585, 357–362 (2020). https://doi.org/10.1038/s41586-020-2649-2"
   ]
  },
  {
   "attachments": {},
   "cell_type": "markdown",
   "metadata": {},
   "source": [
    "***"
   ]
  },
  {
   "attachments": {},
   "cell_type": "markdown",
   "metadata": {},
   "source": [
    "### <a name=\"qrcode\"></a>QR code for accessing this Jupyter notebook on Binder"
   ]
  },
  {
   "attachments": {},
   "cell_type": "markdown",
   "metadata": {},
   "source": [
    "<img src=\"https://raw.githubusercontent.com/tmwProjects/Georoc_jupyter/main/BINDER_JUPYTER_QR.png\" style=\"height:610px\" align=\"left\"/> <br><br>"
   ]
  },
  {
   "attachments": {},
   "cell_type": "markdown",
   "metadata": {},
   "source": [
    "##### <a name=\"hint3\"></a>Hint:\n",
    "- In some cases, Binder may not work the first time it is started. Then simply restart the link again."
   ]
  },
  {
   "attachments": {},
   "cell_type": "markdown",
   "metadata": {},
   "source": [
    "***"
   ]
  },
  {
   "attachments": {},
   "cell_type": "markdown",
   "metadata": {},
   "source": [
    "### <a name=\"follow\"></a>Follow us\n",
    "\n",
    "[Visit our Website](https://georoc.mpch-mainz.gwdg.de/georoc/)\n",
    "\n",
    "![Twitter Follow](https://img.shields.io/twitter/follow/DIGISgeo?style=social)"
   ]
  },
  {
   "attachments": {},
   "cell_type": "markdown",
   "metadata": {},
   "source": [
    "[Back to Table of contects](#table)"
   ]
  },
  {
   "attachments": {},
   "cell_type": "markdown",
   "metadata": {},
   "source": [
    "***"
   ]
  }
 ],
 "metadata": {
  "kernelspec": {
   "display_name": "Python 3",
   "language": "python",
   "name": "python3"
  },
  "language_info": {
   "codemirror_mode": {
    "name": "ipython",
    "version": 3
   },
   "file_extension": ".py",
   "mimetype": "text/x-python",
   "name": "python",
   "nbconvert_exporter": "python",
   "pygments_lexer": "ipython3",
   "version": "3.11.2"
  },
  "orig_nbformat": 4
 },
 "nbformat": 4,
 "nbformat_minor": 2
}

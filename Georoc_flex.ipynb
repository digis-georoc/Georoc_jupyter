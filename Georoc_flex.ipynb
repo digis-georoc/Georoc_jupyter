{
 "cells": [
  {
   "cell_type": "code",
   "execution_count": 85,
   "metadata": {},
   "outputs": [],
   "source": [
    "import requests\n",
    "import json\n",
    "import io\n",
    "from contextlib import redirect_stdout\n",
    "import pandas as pd\n",
    "from tqdm.auto import tqdm\n",
    "from ipywidgets import widgets\n",
    "from ipywidgets import Layout\n",
    "from ipywidgets import IntProgress, Layout, HBox, Label\n",
    "from ipywidgets import Button\n",
    "from functions.widgets import *\n",
    "from functions.api import *\n",
    "from functions.config import *\n",
    "from functions.utils import *\n",
    "from functions.georoc_api import GeoRocAPI"
   ]
  },
  {
   "cell_type": "code",
   "execution_count": 93,
   "metadata": {},
   "outputs": [
    {
     "data": {
      "application/vnd.jupyter.widget-view+json": {
       "model_id": "bf6c38b1d2bd42c694bd5c1eaa4223b7",
       "version_major": 2,
       "version_minor": 0
      },
      "text/plain": [
       "Password(description='API Key:')"
      ]
     },
     "metadata": {},
     "output_type": "display_data"
    },
    {
     "data": {
      "application/vnd.jupyter.widget-view+json": {
       "model_id": "4f786291c4c0456282ccc7789fd28bc2",
       "version_major": 2,
       "version_minor": 0
      },
      "text/plain": [
       "Button(description='Speichern', style=ButtonStyle())"
      ]
     },
     "metadata": {},
     "output_type": "display_data"
    },
    {
     "name": "stdout",
     "output_type": "stream",
     "text": [
      "API Key from input: VGltbVdpcnR6OlZHbHRiVmRwY25SNlgwUkpSMGxUWDBGUVNWOHhOamM0TWpjME16WTA=\n",
      "API-Schlüssel gespeichert und API-Verbindung hergestellt!\n"
     ]
    }
   ],
   "source": [
    "class MyApp:\n",
    "    def __init__(self):\n",
    "        self.api = None\n",
    "        self.api_key_text = widgets.Password(description='API Key:')\n",
    "        self.save_button = widgets.Button(description=\"Speichern\")\n",
    "        self.save_button.on_click(self.save_api_key)\n",
    "        display(self.api_key_text, self.save_button)\n",
    "\n",
    "    def save_api_key(self, sender):\n",
    "        api_key = self.api_key_text.value\n",
    "        print(\"API Key from input:\", api_key)\n",
    "        self.api = GeoRocAPI(api_key)\n",
    "        GeoRocAPI.api_key = api_key  # Hinzufügen dieser Zeile\n",
    "        print(\"API-Schlüssel gespeichert und API-Verbindung hergestellt!\")\n",
    "\n",
    "\n",
    "my_app = MyApp()\n"
   ]
  },
  {
   "cell_type": "code",
   "execution_count": 94,
   "metadata": {},
   "outputs": [
    {
     "name": "stdout",
     "output_type": "stream",
     "text": [
      "API Key in MyApp instance: VGltbVdpcnR6OlZHbHRiVmRwY25SNlgwUkpSMGxUWDBGUVNWOHhOamM0TWpjME16WTA=\n"
     ]
    }
   ],
   "source": [
    "print(\"API Key in MyApp instance:\", my_app.api.api_key)"
   ]
  },
  {
   "cell_type": "code",
   "execution_count": null,
   "metadata": {},
   "outputs": [],
   "source": []
  },
  {
   "cell_type": "code",
   "execution_count": 7,
   "metadata": {},
   "outputs": [],
   "source": []
  },
  {
   "cell_type": "code",
   "execution_count": 4,
   "metadata": {},
   "outputs": [],
   "source": []
  },
  {
   "cell_type": "code",
   "execution_count": 88,
   "metadata": {},
   "outputs": [
    {
     "data": {
      "application/vnd.jupyter.widget-view+json": {
       "model_id": "86ec3dea9fd447b2bf7d2bff212de76d",
       "version_major": 2,
       "version_minor": 0
      },
      "text/plain": [
       "GridBox(children=(Checkbox(value=False, description='Sample_Num'), Checkbox(value=False, description='unique_i…"
      ]
     },
     "metadata": {},
     "output_type": "display_data"
    }
   ],
   "source": [
    "# Specify the desired keys\n",
    "keys = ['Sample_Num', 'unique_id', 'Batches', 'References', 'SampleName', 'Location_Names', 'Location_Types', \n",
    "        'Loc_Data','Elevation_Min', 'Elevation_Max', 'Land_Or_Sea', 'Rock_Types', 'Rock_Classes', 'Rock_Textures', \n",
    "        'Age_Min', 'Age_Max', 'Materials', 'Minerals', 'Inclusion_Types', 'Location_Num', 'Latitude', 'Longitude', \n",
    "        'Latitude_Min', 'Latitude_Max', 'Longitude_Min', 'Longitude_Max', 'Tectonic_Setting', 'Method', 'Comment', \n",
    "        'Institution', 'Item_Name', 'Item_Group', 'Standard_Names', 'Standard_Values', 'Values', 'Units']\n",
    "\n",
    "\n",
    "# Erstellen Sie eine Checkbox für jeden Schlüssel\n",
    "checkboxes = [widgets.Checkbox(value=False, description=key) for key in keys]\n",
    "\n",
    "# Erstellen Sie ein Layout für die GridBox\n",
    "grid_layout = widgets.Layout(grid_template_columns=\"repeat(3, 300px)\")  # 3 Spalten, jede 300px breit\n",
    "\n",
    "# Erstellen Sie eine GridBox, um alle Checkboxen zu halten\n",
    "grid = widgets.GridBox(children=checkboxes, layout=grid_layout)\n",
    "\n",
    "display(grid)"
   ]
  },
  {
   "cell_type": "code",
   "execution_count": 30,
   "metadata": {},
   "outputs": [],
   "source": []
  },
  {
   "cell_type": "code",
   "execution_count": 89,
   "metadata": {},
   "outputs": [
    {
     "name": "stdout",
     "output_type": "stream",
     "text": [
      "API query successful for endpoint:ping \n",
      "\n",
      "Connection to API server successful!\n",
      "\n"
     ]
    }
   ],
   "source": [
    "def check_api_connection():\n",
    "    endpoint = \"ping\"\n",
    "    response = api_query(endpoint)\n",
    "\n",
    "    if response is not None:\n",
    "        print(\"Connection to API server successful!\\n\")\n",
    "    else:\n",
    "        print(\"Failed to connect to API server!\\n\")\n",
    "        exit(1)\n",
    "\n",
    "# Check the connection to the API server\n",
    "check_api_connection()"
   ]
  },
  {
   "cell_type": "code",
   "execution_count": 90,
   "metadata": {},
   "outputs": [
    {
     "data": {
      "application/vnd.jupyter.widget-view+json": {
       "model_id": "1757200ae14f43f2a80b3b51afc84b29",
       "version_major": 2,
       "version_minor": 0
      },
      "text/plain": [
       "GridBox(children=(Text(value='', description='Limit:', placeholder='Enter a value for Limit'), Text(value='', …"
      ]
     },
     "metadata": {},
     "output_type": "display_data"
    }
   ],
   "source": [
    "limit_widget = widgets.Text(placeholder='Enter a value for Limit', description='Limit:')\n",
    "offset_widget = widgets.Text(placeholder='Enter a value for Offset', description='Offset:')\n",
    "location1_widget = widgets.Text(placeholder='Enter a value for Location1', description='Location1:')\n",
    "location2_widget = widgets.Text(placeholder='Enter a value for Location2', description='Location2:')\n",
    "location3_widget = widgets.Text(placeholder='Enter a value for Location3', description='Location3:')\n",
    "setting_widget = widgets.Text(placeholder='Enter a value for Setting', description='Setting:')\n",
    "latitude_widget = widgets.Text(placeholder='Enter a value for Latitude', description='Latitude:')\n",
    "longitude_widget = widgets.Text(placeholder='Enter a value for Longitude', description='Longitude:')\n",
    "rocktype_widget = widgets.Text(placeholder='Enter a value for Rocktype', description='Rocktype:')\n",
    "rockclass_widget = widgets.Text(placeholder='Enter a value for Rockclass', description='Rockclass:')\n",
    "mineral_widget = widgets.Text(placeholder='Enter a value for Mineral', description='Mineral:')\n",
    "material_widget = widgets.Text(placeholder='Enter a value for Material', description='Material:')\n",
    "inclusiontype_widget = widgets.Text(placeholder='Enter a value for Inclusiontype', description='Inclusiontype:')\n",
    "sampletech_widget = widgets.Text(placeholder='Enter a value for SampleTech', description='SampleTech:')\n",
    "element_widget = widgets.Text(placeholder='Enter a value for Element', description='Element:')\n",
    "elementtype_widget = widgets.Text(placeholder='Enter a value for Elementtype', description='Elementtype:')\n",
    "value_widget = widgets.Text(placeholder='Enter a value for Value', description='Value:')\n",
    "title_widget = widgets.Text(placeholder='Enter a value for Title', description='Title:')\n",
    "publicationyear_widget = widgets.Text(placeholder='Enter a value for Year of Publication', description='Year of Publication:')\n",
    "doi_widget = widgets.Text(placeholder='Enter a value for DOI', description='DOI:')\n",
    "firstname_widget = widgets.Text(placeholder='Enter a value for First Name', description='First Name:')\n",
    "lastname_widget = widgets.Text(placeholder='Enter a value for Lastname', description='Lastname:')\n",
    "agemin_widget = widgets.Text(placeholder='Enter a value for Age Minimum', description='Age Minimum:')\n",
    "agemax_widget = widgets.Text(placeholder='Enter a value for Age Maximum', description='Age Maximum:')\n",
    "geoage_widget = widgets.Text(placeholder='Enter a value for Geo Age', description='Geo Age:')\n",
    "geoageprefix_widget = widgets.Text(placeholder='Enter a value for Geo Age Prefix', description='Geo Age Prefix:')\n",
    "lab_widget = widgets.Text(placeholder='Enter a value for Lab', description='Lab:')\n",
    "\n",
    "# Erstellen der Widget-Liste\n",
    "widget_list = [\n",
    "    limit_widget, offset_widget, location1_widget, location2_widget, location3_widget,\n",
    "    setting_widget, latitude_widget, longitude_widget, rocktype_widget, rockclass_widget,\n",
    "    mineral_widget, material_widget, inclusiontype_widget, sampletech_widget, element_widget,\n",
    "    elementtype_widget, value_widget, title_widget, publicationyear_widget, doi_widget,\n",
    "    firstname_widget, lastname_widget, agemin_widget, agemax_widget, geoage_widget,\n",
    "    geoageprefix_widget, lab_widget\n",
    "]\n",
    "\n",
    "# Erstellen Sie ein Layout für die GridBox\n",
    "grid_layout = widgets.Layout(grid_template_columns=\"repeat(3, 300px)\")\n",
    "\n",
    "# Erstellen Sie eine GridBox, um alle Widgets zu halten\n",
    "grid2 = widgets.GridBox(children=widget_list, layout=grid_layout)\n",
    "\n",
    "display(grid2)"
   ]
  },
  {
   "cell_type": "code",
   "execution_count": 95,
   "metadata": {},
   "outputs": [
    {
     "name": "stdout",
     "output_type": "stream",
     "text": [
      "<functions.georoc_api.GeoRocAPI object at 0x7f3a4d0ca490>\n",
      "API query successful for endpoint:queries/samples \n",
      "\n",
      "{'NumItems': 2, 'Data': [{'SampleID': 0}, {'SampleID': 233338}]} \n",
      "\n"
     ]
    }
   ],
   "source": [
    "print(my_app.api)\n",
    "\n",
    "filtered_samples_combined = my_app.api.get_filtered_samples(\n",
    "    limit=limit_widget.value, \n",
    "    offset=offset_widget.value, \n",
    "    location1=location1_widget.value,\n",
    "    location2=location2_widget.value,\n",
    "    location3=location3_widget.value,\n",
    "    setting=setting_widget.value,\n",
    "    latitude=latitude_widget.value,\n",
    "    longitude=longitude_widget.value,\n",
    "    rocktype=rocktype_widget.value,\n",
    "    rockclass=rockclass_widget.value,\n",
    "    mineral=mineral_widget.value,\n",
    "    material=material_widget.value,\n",
    "    inclusiontype=inclusiontype_widget.value,\n",
    "    sampletech=sampletech_widget.value,\n",
    "    element=element_widget.value,\n",
    "    elementtype=elementtype_widget.value,\n",
    "    value=value_widget.value,\n",
    "    title=title_widget.value,\n",
    "    publicationyear=publicationyear_widget.value,\n",
    "    doi=doi_widget.value,\n",
    "    firstname=firstname_widget.value,\n",
    "    lastname=lastname_widget.value,\n",
    "    agemin=agemin_widget.value,\n",
    "    agemax=agemax_widget.value,\n",
    "    geoage=geoage_widget.value,\n",
    "    geoageprefix=geoageprefix_widget.value,\n",
    "    lab=lab_widget.value\n",
    ")\n",
    "\n",
    "print(filtered_samples_combined, \"\\n\")"
   ]
  },
  {
   "cell_type": "code",
   "execution_count": 96,
   "metadata": {},
   "outputs": [
    {
     "name": "stdout",
     "output_type": "stream",
     "text": [
      "\n",
      " The extracted SampleIDs are: [0, 233338] \n",
      "\n"
     ]
    }
   ],
   "source": [
    "# Extract SamplingFeatureIDs\n",
    "if \"Data\" in filtered_samples_combined and filtered_samples_combined[\"Data\"]:\n",
    "    sampling_feature_ids = [sample[\"SampleID\"] for sample in filtered_samples_combined[\"Data\"]]\n",
    "    print(\"\\n\", f\"The extracted SampleIDs are:\", sampling_feature_ids, \"\\n\")\n",
    "else:\n",
    "    print(\"No data found or unexpected data structure\", \"\\n\")"
   ]
  },
  {
   "cell_type": "code",
   "execution_count": 97,
   "metadata": {},
   "outputs": [],
   "source": [
    "# Create an empty DataFrame to store all measurement data\n",
    "measurement_data = pd.DataFrame()"
   ]
  },
  {
   "cell_type": "code",
   "execution_count": 99,
   "metadata": {},
   "outputs": [],
   "source": [
    "def get_measurement_data(api_key, sampling_feature_id):\n",
    "    base_url = f\"https://api-test.georoc.eu/api/v1/queries/fulldata/{sampling_feature_id}\"\n",
    "    headers = {\n",
    "        \"accept\": \"application/json\",\n",
    "        \"DIGIS-API-ACCESSKEY\": api_key\n",
    "    }\n",
    "\n",
    "    response = requests.get(base_url, headers=headers)\n",
    "    if response.status_code == 200:\n",
    "        data = json.loads(response.text)['Data'][0]\n",
    "\n",
    "        # Create a dictionary containing all keys and values from data\n",
    "        df_data = {key: data[key] for key in keys}\n",
    "\n",
    "        # Convert all values in df_data to lists\n",
    "        for key, value in df_data.items():\n",
    "            if not isinstance(value, list):\n",
    "                df_data[key] = [value]\n",
    "\n",
    "        # Find the longest list in df_data\n",
    "        max_len = max([len(value) for value in df_data.values()])\n",
    "\n",
    "        # Extend all the lists to the length of the longest list\n",
    "        for key, value in df_data.items():\n",
    "            if len(value) < max_len:\n",
    "                df_data[key] = value + [None] * (max_len - len(value))\n",
    "\n",
    "        # Create the DataFrame\n",
    "        df = pd.DataFrame(df_data)\n",
    "\n",
    "        return df\n",
    "\n",
    "    else:\n",
    "        print(f\"Error fetching data for sample ID {sampling_feature_id}, Status code: {response.status_code}\")\n",
    "        return None"
   ]
  },
  {
   "cell_type": "code",
   "execution_count": 101,
   "metadata": {},
   "outputs": [
    {
     "data": {
      "application/vnd.jupyter.widget-view+json": {
       "model_id": "4eabce473b8e476faa8187927ab36fd3",
       "version_major": 2,
       "version_minor": 0
      },
      "text/plain": [
       "HBox(children=(IntProgress(value=0, layout=Layout(width='auto'), max=2), Label(value='Starting...')))"
      ]
     },
     "metadata": {},
     "output_type": "display_data"
    },
    {
     "name": "stdout",
     "output_type": "stream",
     "text": [
      "Fetching measurement data for SamplingFeatureID: 0\n",
      "Error fetching data for sample ID 0, Status code: 404\n",
      "Error occurred while fetching data for SamplingFeatureID 0\n",
      "Fetching measurement data for SamplingFeatureID: 233338\n",
      "Data for SamplingFeatureID 233338:\n",
      "     Sample_Num unique_id   Batches  \\\n",
      "0     233338.0            880875.0   \n",
      "1          NaN      None       NaN   \n",
      "2          NaN      None       NaN   \n",
      "3          NaN      None       NaN   \n",
      "4          NaN      None       NaN   \n",
      "5          NaN      None       NaN   \n",
      "6          NaN      None       NaN   \n",
      "7          NaN      None       NaN   \n",
      "8          NaN      None       NaN   \n",
      "9          NaN      None       NaN   \n",
      "10         NaN      None       NaN   \n",
      "11         NaN      None       NaN   \n",
      "12         NaN      None       NaN   \n",
      "13         NaN      None       NaN   \n",
      "14         NaN      None       NaN   \n",
      "15         NaN      None       NaN   \n",
      "16         NaN      None       NaN   \n",
      "17         NaN      None       NaN   \n",
      "18         NaN      None       NaN   \n",
      "19         NaN      None       NaN   \n",
      "20         NaN      None       NaN   \n",
      "21         NaN      None       NaN   \n",
      "22         NaN      None       NaN   \n",
      "23         NaN      None       NaN   \n",
      "24         NaN      None       NaN   \n",
      "25         NaN      None       NaN   \n",
      "26         NaN      None       NaN   \n",
      "27         NaN      None       NaN   \n",
      "28         NaN      None       NaN   \n",
      "29         NaN      None       NaN   \n",
      "30         NaN      None       NaN   \n",
      "31         NaN      None       NaN   \n",
      "32         NaN      None       NaN   \n",
      "33         NaN      None       NaN   \n",
      "\n",
      "                                           References SampleName  \\\n",
      "0   {'authors': [{'personfirstname': 'C. J.', 'per...              \n",
      "1                                                None       None   \n",
      "2                                                None       None   \n",
      "3                                                None       None   \n",
      "4                                                None       None   \n",
      "5                                                None       None   \n",
      "6                                                None       None   \n",
      "7                                                None       None   \n",
      "8                                                None       None   \n",
      "9                                                None       None   \n",
      "10                                               None       None   \n",
      "11                                               None       None   \n",
      "12                                               None       None   \n",
      "13                                               None       None   \n",
      "14                                               None       None   \n",
      "15                                               None       None   \n",
      "16                                               None       None   \n",
      "17                                               None       None   \n",
      "18                                               None       None   \n",
      "19                                               None       None   \n",
      "20                                               None       None   \n",
      "21                                               None       None   \n",
      "22                                               None       None   \n",
      "23                                               None       None   \n",
      "24                                               None       None   \n",
      "25                                               None       None   \n",
      "26                                               None       None   \n",
      "27                                               None       None   \n",
      "28                                               None       None   \n",
      "29                                               None       None   \n",
      "30                                               None       None   \n",
      "31                                               None       None   \n",
      "32                                               None       None   \n",
      "33                                               None       None   \n",
      "\n",
      "   Location_Names      Location_Types  \\\n",
      "0     AEOLIAN ARC                 ARC   \n",
      "1           ITALY            ARC ZONE   \n",
      "2    SALINA;ITALY  ISLAND/REGION/SITE   \n",
      "3            None                None   \n",
      "4            None                None   \n",
      "5            None                None   \n",
      "6            None                None   \n",
      "7            None                None   \n",
      "8            None                None   \n",
      "9            None                None   \n",
      "10           None                None   \n",
      "11           None                None   \n",
      "12           None                None   \n",
      "13           None                None   \n",
      "14           None                None   \n",
      "15           None                None   \n",
      "16           None                None   \n",
      "17           None                None   \n",
      "18           None                None   \n",
      "19           None                None   \n",
      "20           None                None   \n",
      "21           None                None   \n",
      "22           None                None   \n",
      "23           None                None   \n",
      "24           None                None   \n",
      "25           None                None   \n",
      "26           None                None   \n",
      "27           None                None   \n",
      "28           None                None   \n",
      "29           None                None   \n",
      "30           None                None   \n",
      "31           None                None   \n",
      "32           None                None   \n",
      "33           None                None   \n",
      "\n",
      "                                             Loc_Data Elevation_Min  \\\n",
      "0   {'latitude': 38.565, 'locationprecision': 0, '...                 \n",
      "1                                                None          None   \n",
      "2                                                None          None   \n",
      "3                                                None          None   \n",
      "4                                                None          None   \n",
      "5                                                None          None   \n",
      "6                                                None          None   \n",
      "7                                                None          None   \n",
      "8                                                None          None   \n",
      "9                                                None          None   \n",
      "10                                               None          None   \n",
      "11                                               None          None   \n",
      "12                                               None          None   \n",
      "13                                               None          None   \n",
      "14                                               None          None   \n",
      "15                                               None          None   \n",
      "16                                               None          None   \n",
      "17                                               None          None   \n",
      "18                                               None          None   \n",
      "19                                               None          None   \n",
      "20                                               None          None   \n",
      "21                                               None          None   \n",
      "22                                               None          None   \n",
      "23                                               None          None   \n",
      "24                                               None          None   \n",
      "25                                               None          None   \n",
      "26                                               None          None   \n",
      "27                                               None          None   \n",
      "28                                               None          None   \n",
      "29                                               None          None   \n",
      "30                                               None          None   \n",
      "31                                               None          None   \n",
      "32                                               None          None   \n",
      "33                                               None          None   \n",
      "\n",
      "   Elevation_Max  ...   Tectonic_Setting Method Comment Institution  \\\n",
      "0                 ...  CONVERGENT MARGIN    IGN                       \n",
      "1           None  ...               None   None    None        None   \n",
      "2           None  ...               None   None    None        None   \n",
      "3           None  ...               None   None    None        None   \n",
      "4           None  ...               None   None    None        None   \n",
      "5           None  ...               None   None    None        None   \n",
      "6           None  ...               None   None    None        None   \n",
      "7           None  ...               None   None    None        None   \n",
      "8           None  ...               None   None    None        None   \n",
      "9           None  ...               None   None    None        None   \n",
      "10          None  ...               None   None    None        None   \n",
      "11          None  ...               None   None    None        None   \n",
      "12          None  ...               None   None    None        None   \n",
      "13          None  ...               None   None    None        None   \n",
      "14          None  ...               None   None    None        None   \n",
      "15          None  ...               None   None    None        None   \n",
      "16          None  ...               None   None    None        None   \n",
      "17          None  ...               None   None    None        None   \n",
      "18          None  ...               None   None    None        None   \n",
      "19          None  ...               None   None    None        None   \n",
      "20          None  ...               None   None    None        None   \n",
      "21          None  ...               None   None    None        None   \n",
      "22          None  ...               None   None    None        None   \n",
      "23          None  ...               None   None    None        None   \n",
      "24          None  ...               None   None    None        None   \n",
      "25          None  ...               None   None    None        None   \n",
      "26          None  ...               None   None    None        None   \n",
      "27          None  ...               None   None    None        None   \n",
      "28          None  ...               None   None    None        None   \n",
      "29          None  ...               None   None    None        None   \n",
      "30          None  ...               None   None    None        None   \n",
      "31          None  ...               None   None    None        None   \n",
      "32          None  ...               None   None    None        None   \n",
      "33          None  ...               None   None    None        None   \n",
      "\n",
      "    Item_Name  Item_Group Standard_Names Standard_Values  Values  Units  \n",
      "0        SIO2          mj                              0   53.82    WT%  \n",
      "1        TIO2          mj                              0    0.68    WT%  \n",
      "2       AL2O3          mj                              0   19.13    WT%  \n",
      "3       FE2O3          mj                              0    8.71    WT%  \n",
      "4         MNO          mj                              0    0.15    WT%  \n",
      "5         MGO          mj                              0    3.39    WT%  \n",
      "6         CAO          mj                              0    9.58    WT%  \n",
      "7        NA2O          mj                              0    2.59    WT%  \n",
      "8         K2O          mj                              0    1.48    WT%  \n",
      "9        P2O5          mj                              0    0.25    WT%  \n",
      "10         BA          te                              0  433.00    PPM  \n",
      "11         RB          te                              0   33.00    PPM  \n",
      "12         SR          te                              0  750.00    PPM  \n",
      "13          Y          te                              0   16.00    PPM  \n",
      "14         ZR          te                              0   74.00    PPM  \n",
      "15         NB          te                              0    6.00    PPM  \n",
      "16         NI          te                              0    8.00    PPM  \n",
      "17         CR          te                              0   26.00    PPM  \n",
      "18          V          te                              0  230.00    PPM  \n",
      "19         TA          te                              0    0.40    PPM  \n",
      "20        LOI          mj                              0    0.02    WT%  \n",
      "21         TH          te                              0    4.60    PPM  \n",
      "22          U          te                              0    1.70    PPM  \n",
      "23         LU         ree                              0    0.31    PPM  \n",
      "24         SC          te                              0   11.00    PPM  \n",
      "25         CO          te                              0   22.00    PPM  \n",
      "26         HF          te                              0    1.73    PPM  \n",
      "27         LA         ree                              0   19.40    PPM  \n",
      "28         CE         ree                              0   37.70    PPM  \n",
      "29         ND         ree                              0   20.70    PPM  \n",
      "30         SM         ree                              0    3.87    PPM  \n",
      "31         EU         ree                              0    1.21    PPM  \n",
      "32         TB         ree                              0    0.63    PPM  \n",
      "33         YB         ree                              0    1.90    PPM  \n",
      "\n",
      "[34 rows x 36 columns]\n"
     ]
    },
    {
     "name": "stderr",
     "output_type": "stream",
     "text": [
      "/tmp/ipykernel_63790/930552407.py:17: FutureWarning: The frame.append method is deprecated and will be removed from pandas in a future version. Use pandas.concat instead.\n",
      "  measurement_data = measurement_data.append(df, ignore_index=True)\n"
     ]
    }
   ],
   "source": [
    "# Erstelle die Progressbar\n",
    "progress = IntProgress(value=0, min=0, max=len(sampling_feature_ids), layout=Layout(width=\"auto\"))\n",
    "progress_label = Label('Starting...')\n",
    "progress_box = HBox([progress, progress_label])\n",
    "display(progress_box)\n",
    "\n",
    "# Iterate over the list of SamplingFeatureIDs\n",
    "for sampling_feature_id in sampling_feature_ids:\n",
    "    print(f\"Fetching measurement data for SamplingFeatureID: {sampling_feature_id}\")\n",
    "\n",
    "    # Get the measurement data for the current SamplingFeatureID\n",
    "    df = get_measurement_data(my_app.api.api_key, sampling_feature_id)\n",
    "\n",
    "    # Check if the dataframe is not empty and not None\n",
    "    if df is not None and not df.empty:\n",
    "        # Append the dataframe to the measurement_data DataFrame\n",
    "        measurement_data = measurement_data.append(df, ignore_index=True)\n",
    "\n",
    "        # Print the dataframe\n",
    "        print(f\"Data for SamplingFeatureID {sampling_feature_id}:\\n\", df)\n",
    "    elif df is None:\n",
    "        print(f\"Error occurred while fetching data for SamplingFeatureID {sampling_feature_id}\")\n",
    "    else:\n",
    "        print(f\"No measurement data found for SamplingFeatureID {sampling_feature_id}\")\n",
    "\n",
    "    # Aktualisiere die Progressbar und das Label\n",
    "    progress.value += 1\n",
    "    progress_label.value = f\"Processing: {sampling_feature_id} ({progress.value}/{progress.max})\""
   ]
  },
  {
   "cell_type": "code",
   "execution_count": null,
   "metadata": {},
   "outputs": [],
   "source": [
    "# Save the combined measurement_data DataFrame\n",
    "measurement_data.to_csv('measurement_data.csv', index=False)"
   ]
  }
 ],
 "metadata": {
  "kernelspec": {
   "display_name": "Python 3",
   "language": "python",
   "name": "python3"
  },
  "language_info": {
   "codemirror_mode": {
    "name": "ipython",
    "version": 3
   },
   "file_extension": ".py",
   "mimetype": "text/x-python",
   "name": "python",
   "nbconvert_exporter": "python",
   "pygments_lexer": "ipython3",
   "version": "3.11.2"
  },
  "orig_nbformat": 4
 },
 "nbformat": 4,
 "nbformat_minor": 2
}

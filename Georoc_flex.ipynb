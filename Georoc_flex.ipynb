{
 "cells": [
  {
   "cell_type": "code",
   "execution_count": 2,
   "metadata": {},
   "outputs": [],
   "source": [
    "import requests\n",
    "import json\n",
    "import pandas as pd\n",
    "from ipywidgets import widgets\n",
    "from ipywidgets import Layout\n",
    "from ipywidgets import IntProgress, Layout, HBox, Label\n",
    "from ipywidgets import Button\n",
    "from functions.widgets import *\n",
    "from functions.api import *\n",
    "from functions.config import *\n",
    "from functions.georoc_api import GeoRocAPI\n",
    "from functions.app import MyApp\n",
    "from functions.utils import get_selected_keys, get_measurement_data"
   ]
  },
  {
   "cell_type": "code",
   "execution_count": 3,
   "metadata": {},
   "outputs": [
    {
     "data": {
      "application/vnd.jupyter.widget-view+json": {
       "model_id": "eddea7da7c4d42d78b701593e348850e",
       "version_major": 2,
       "version_minor": 0
      },
      "text/plain": [
       "Password(description='API Key:')"
      ]
     },
     "metadata": {},
     "output_type": "display_data"
    },
    {
     "data": {
      "application/vnd.jupyter.widget-view+json": {
       "model_id": "45edcae790fa427ea019253e6a5a70ec",
       "version_major": 2,
       "version_minor": 0
      },
      "text/plain": [
       "Button(description='Save', style=ButtonStyle())"
      ]
     },
     "metadata": {},
     "output_type": "display_data"
    }
   ],
   "source": [
    "my_app = MyApp()"
   ]
  },
  {
   "cell_type": "code",
   "execution_count": 140,
   "metadata": {},
   "outputs": [
    {
     "data": {
      "application/vnd.jupyter.widget-view+json": {
       "model_id": "a31f423be5034829b1525551f6bd9073",
       "version_major": 2,
       "version_minor": 0
      },
      "text/plain": [
       "GridBox(children=(Checkbox(value=False, description='Sample_Num'), Checkbox(value=False, description='unique_i…"
      ]
     },
     "metadata": {},
     "output_type": "display_data"
    }
   ],
   "source": [
    "display(grid)"
   ]
  },
  {
   "cell_type": "code",
   "execution_count": 123,
   "metadata": {},
   "outputs": [
    {
     "name": "stdout",
     "output_type": "stream",
     "text": [
      "API query successful for endpoint:ping \n",
      "\n",
      "Connection to API server successful!\n",
      "\n"
     ]
    }
   ],
   "source": [
    "def check_api_connection():\n",
    "    endpoint = \"ping\"\n",
    "    response = my_app.api.api_query(endpoint)\n",
    "\n",
    "    if response is not None:\n",
    "        print(\"Connection to API server successful!\\n\")\n",
    "    else:\n",
    "        print(\"Failed to connect to API server!\\n\")\n",
    "        exit(1)\n",
    "\n",
    "check_api_connection()"
   ]
  },
  {
   "cell_type": "code",
   "execution_count": 124,
   "metadata": {},
   "outputs": [
    {
     "data": {
      "application/vnd.jupyter.widget-view+json": {
       "model_id": "0f75f859b3a4425d9a164349e19879a9",
       "version_major": 2,
       "version_minor": 0
      },
      "text/plain": [
       "GridBox(children=(Text(value='', description='Limit:', placeholder='Enter a value for Limit'), Text(value='', …"
      ]
     },
     "metadata": {},
     "output_type": "display_data"
    }
   ],
   "source": [
    "display(grid2)"
   ]
  },
  {
   "cell_type": "code",
   "execution_count": 125,
   "metadata": {},
   "outputs": [
    {
     "name": "stdout",
     "output_type": "stream",
     "text": [
      "API query successful for endpoint:queries/samples \n",
      "\n",
      "{'NumItems': 3, 'Data': [{'SampleID': 0}, {'SampleID': 233338}, {'SampleID': 129976}]} \n",
      "\n"
     ]
    }
   ],
   "source": [
    "filtered_samples_combined = my_app.api.get_filtered_samples(\n",
    "    limit=limit_widget.value, \n",
    "    offset=offset_widget.value, \n",
    "    location1=location1_widget.value,\n",
    "    location2=location2_widget.value,\n",
    "    location3=location3_widget.value,\n",
    "    setting=setting_widget.value,\n",
    "    latitude=latitude_widget.value,\n",
    "    longitude=longitude_widget.value,\n",
    "    rocktype=rocktype_widget.value,\n",
    "    rockclass=rockclass_widget.value,\n",
    "    mineral=mineral_widget.value,\n",
    "    material=material_widget.value,\n",
    "    inclusiontype=inclusiontype_widget.value,\n",
    "    sampletech=sampletech_widget.value,\n",
    "    element=element_widget.value,\n",
    "    elementtype=elementtype_widget.value,\n",
    "    value=value_widget.value,\n",
    "    title=title_widget.value,\n",
    "    publicationyear=publicationyear_widget.value,\n",
    "    doi=doi_widget.value,\n",
    "    firstname=firstname_widget.value,\n",
    "    lastname=lastname_widget.value,\n",
    "    agemin=agemin_widget.value,\n",
    "    agemax=agemax_widget.value,\n",
    "    geoage=geoage_widget.value,\n",
    "    geoageprefix=geoageprefix_widget.value,\n",
    "    lab=lab_widget.value\n",
    ")\n",
    "\n",
    "print(filtered_samples_combined, \"\\n\")"
   ]
  },
  {
   "cell_type": "code",
   "execution_count": 126,
   "metadata": {},
   "outputs": [
    {
     "name": "stdout",
     "output_type": "stream",
     "text": [
      "\n",
      " The extracted SampleIDs are: [0, 233338, 129976] \n",
      "\n"
     ]
    }
   ],
   "source": [
    "# Extract SamplingFeatureIDs\n",
    "if \"Data\" in filtered_samples_combined and filtered_samples_combined[\"Data\"]:\n",
    "    sampling_feature_ids = [sample[\"SampleID\"] for sample in filtered_samples_combined[\"Data\"]]\n",
    "    print(\"\\n\", f\"The extracted SampleIDs are:\", sampling_feature_ids, \"\\n\")\n",
    "else:\n",
    "    print(\"No data found or unexpected data structure\", \"\\n\")"
   ]
  },
  {
   "cell_type": "code",
   "execution_count": 127,
   "metadata": {},
   "outputs": [],
   "source": [
    "# Create an empty DataFrame to store all measurement data\n",
    "measurement_data = pd.DataFrame()"
   ]
  },
  {
   "cell_type": "code",
   "execution_count": 142,
   "metadata": {},
   "outputs": [
    {
     "data": {
      "application/vnd.jupyter.widget-view+json": {
       "model_id": "df81cae9620f489dac0a47ed836ab740",
       "version_major": 2,
       "version_minor": 0
      },
      "text/plain": [
       "IntProgress(value=3, bar_style='info', description='Loading:', max=3, style=ProgressStyle(bar_color='maroon'))"
      ]
     },
     "metadata": {},
     "output_type": "display_data"
    },
    {
     "ename": "NameError",
     "evalue": "name 'get_selected_keys' is not defined",
     "output_type": "error",
     "traceback": [
      "\u001b[0;31m---------------------------------------------------------------------------\u001b[0m",
      "\u001b[0;31mNameError\u001b[0m                                 Traceback (most recent call last)",
      "\u001b[1;32m/home/timm/VisualCode/Georoc_jupyter/Georoc_flex.ipynb Zelle 9\u001b[0m in \u001b[0;36m6\n\u001b[1;32m      <a href='vscode-notebook-cell:/home/timm/VisualCode/Georoc_jupyter/Georoc_flex.ipynb#X14sZmlsZQ%3D%3D?line=2'>3</a>\u001b[0m \u001b[39m# Iterate over the list of SamplingFeatureIDs\u001b[39;00m\n\u001b[1;32m      <a href='vscode-notebook-cell:/home/timm/VisualCode/Georoc_jupyter/Georoc_flex.ipynb#X14sZmlsZQ%3D%3D?line=3'>4</a>\u001b[0m \u001b[39mfor\u001b[39;00m index, sampling_feature_id \u001b[39min\u001b[39;00m \u001b[39menumerate\u001b[39m(sampling_feature_ids):\n\u001b[1;32m      <a href='vscode-notebook-cell:/home/timm/VisualCode/Georoc_jupyter/Georoc_flex.ipynb#X14sZmlsZQ%3D%3D?line=4'>5</a>\u001b[0m     \u001b[39m# Get the selected keys from the checkboxes\u001b[39;00m\n\u001b[0;32m----> <a href='vscode-notebook-cell:/home/timm/VisualCode/Georoc_jupyter/Georoc_flex.ipynb#X14sZmlsZQ%3D%3D?line=5'>6</a>\u001b[0m     selected_keys \u001b[39m=\u001b[39m get_selected_keys(checkboxes)\n\u001b[1;32m      <a href='vscode-notebook-cell:/home/timm/VisualCode/Georoc_jupyter/Georoc_flex.ipynb#X14sZmlsZQ%3D%3D?line=7'>8</a>\u001b[0m     \u001b[39m# Get the measurement data for the current SamplingFeatureID using the selected keys\u001b[39;00m\n\u001b[1;32m      <a href='vscode-notebook-cell:/home/timm/VisualCode/Georoc_jupyter/Georoc_flex.ipynb#X14sZmlsZQ%3D%3D?line=8'>9</a>\u001b[0m     df \u001b[39m=\u001b[39m get_measurement_data(my_app\u001b[39m.\u001b[39mapi\u001b[39m.\u001b[39mapi_key, sampling_feature_id, selected_keys)\n",
      "\u001b[0;31mNameError\u001b[0m: name 'get_selected_keys' is not defined"
     ]
    }
   ],
   "source": [
    "progress_bar = widgets.IntProgress(\n",
    "    value=0,\n",
    "    min=0,\n",
    "    max=len(sampling_feature_ids),\n",
    "    description='Loading:',\n",
    "    bar_style='info',\n",
    "    style={'bar_color': 'maroon'},\n",
    "    orientation='horizontal'\n",
    ")\n",
    "\n",
    "display(progress_bar)\n",
    "\n",
    "# Iterate over the list of SamplingFeatureIDs\n",
    "for index, sampling_feature_id in enumerate(sampling_feature_ids):\n",
    "    # Get the selected keys from the checkboxes\n",
    "    selected_keys = get_selected_keys(checkboxes)\n",
    "\n",
    "    # Get the measurement data for the current SamplingFeatureID using the selected keys\n",
    "    df = get_measurement_data(my_app.api.api_key, sampling_feature_id, selected_keys)\n",
    "\n",
    "    # Check if the dataframe is not empty and not None\n",
    "    if df is not None and not df.empty:\n",
    "        # Append the dataframe to the measurement_data DataFrame\n",
    "        measurement_data = measurement_data._append(df, ignore_index=True)\n",
    "\n",
    "    # Update the progress bar\n",
    "    progress_bar.value = index + 1"
   ]
  },
  {
   "cell_type": "code",
   "execution_count": null,
   "metadata": {},
   "outputs": [],
   "source": [
    "# Save the combined measurement_data DataFrame\n",
    "measurement_data.to_csv('measurement_data.csv', index=False)"
   ]
  }
 ],
 "metadata": {
  "kernelspec": {
   "display_name": "Python 3",
   "language": "python",
   "name": "python3"
  },
  "language_info": {
   "codemirror_mode": {
    "name": "ipython",
    "version": 3
   },
   "file_extension": ".py",
   "mimetype": "text/x-python",
   "name": "python",
   "nbconvert_exporter": "python",
   "pygments_lexer": "ipython3",
   "version": "3.11.2"
  },
  "orig_nbformat": 4
 },
 "nbformat": 4,
 "nbformat_minor": 2
}

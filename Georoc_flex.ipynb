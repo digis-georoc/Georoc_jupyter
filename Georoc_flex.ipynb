{
 "cells": [
  {
   "cell_type": "code",
   "execution_count": null,
   "metadata": {},
   "outputs": [],
   "source": [
    "import requests\n",
    "import json\n",
    "import pandas as pd\n",
    "from ipywidgets import widgets\n",
    "from ipywidgets import Layout\n",
    "from ipywidgets import IntProgress, Layout, HBox, Label\n",
    "from ipywidgets import Button\n",
    "from functions.widgets import *\n",
    "from functions.api import *\n",
    "from functions.config import *\n",
    "from functions.utils import *\n",
    "from functions.georoc_api import GeoRocAPI\n",
    "from functions.app import MyApp"
   ]
  },
  {
   "cell_type": "code",
   "execution_count": null,
   "metadata": {},
   "outputs": [],
   "source": [
    "my_app = MyApp()"
   ]
  },
  {
   "cell_type": "code",
   "execution_count": null,
   "metadata": {},
   "outputs": [],
   "source": [
    "display(grid)"
   ]
  },
  {
   "cell_type": "code",
   "execution_count": null,
   "metadata": {},
   "outputs": [],
   "source": [
    "def check_api_connection():\n",
    "    endpoint = \"ping\"\n",
    "    response = my_app.api.api_query(endpoint)\n",
    "\n",
    "    if response is not None:\n",
    "        print(\"Connection to API server successful!\\n\")\n",
    "    else:\n",
    "        print(\"Failed to connect to API server!\\n\")\n",
    "        exit(1)\n",
    "\n",
    "check_api_connection()"
   ]
  },
  {
   "cell_type": "code",
   "execution_count": null,
   "metadata": {},
   "outputs": [],
   "source": [
    "display(grid2)"
   ]
  },
  {
   "cell_type": "code",
   "execution_count": null,
   "metadata": {},
   "outputs": [],
   "source": [
    "filtered_samples_combined = my_app.api.get_filtered_samples(\n",
    "    limit=limit_widget.value, \n",
    "    offset=offset_widget.value, \n",
    "    location1=location1_widget.value,\n",
    "    location2=location2_widget.value,\n",
    "    location3=location3_widget.value,\n",
    "    setting=setting_widget.value,\n",
    "    latitude=latitude_widget.value,\n",
    "    longitude=longitude_widget.value,\n",
    "    rocktype=rocktype_widget.value,\n",
    "    rockclass=rockclass_widget.value,\n",
    "    mineral=mineral_widget.value,\n",
    "    material=material_widget.value,\n",
    "    inclusiontype=inclusiontype_widget.value,\n",
    "    sampletech=sampletech_widget.value,\n",
    "    element=element_widget.value,\n",
    "    elementtype=elementtype_widget.value,\n",
    "    value=value_widget.value,\n",
    "    title=title_widget.value,\n",
    "    publicationyear=publicationyear_widget.value,\n",
    "    doi=doi_widget.value,\n",
    "    firstname=firstname_widget.value,\n",
    "    lastname=lastname_widget.value,\n",
    "    agemin=agemin_widget.value,\n",
    "    agemax=agemax_widget.value,\n",
    "    geoage=geoage_widget.value,\n",
    "    geoageprefix=geoageprefix_widget.value,\n",
    "    lab=lab_widget.value\n",
    ")\n",
    "\n",
    "print(filtered_samples_combined, \"\\n\")"
   ]
  },
  {
   "cell_type": "code",
   "execution_count": null,
   "metadata": {},
   "outputs": [],
   "source": [
    "# Extract SamplingFeatureIDs\n",
    "if \"Data\" in filtered_samples_combined and filtered_samples_combined[\"Data\"]:\n",
    "    sampling_feature_ids = [sample[\"SampleID\"] for sample in filtered_samples_combined[\"Data\"]]\n",
    "    print(\"\\n\", f\"The extracted SampleIDs are:\", sampling_feature_ids, \"\\n\")\n",
    "else:\n",
    "    print(\"No data found or unexpected data structure\", \"\\n\")"
   ]
  },
  {
   "cell_type": "code",
   "execution_count": null,
   "metadata": {},
   "outputs": [],
   "source": [
    "# Create an empty DataFrame to store all measurement data\n",
    "measurement_data = pd.DataFrame()"
   ]
  },
  {
   "cell_type": "code",
   "execution_count": null,
   "metadata": {},
   "outputs": [],
   "source": [
    "def get_measurement_data(api_key, sampling_feature_id):\n",
    "    base_url = f\"https://api-test.georoc.eu/api/v1/queries/fulldata/{sampling_feature_id}\"\n",
    "    headers = {\n",
    "        \"accept\": \"application/json\",\n",
    "        \"DIGIS-API-ACCESSKEY\": api_key\n",
    "    }\n",
    "\n",
    "    response = requests.get(base_url, headers=headers)\n",
    "    if response.status_code == 200:\n",
    "        data = json.loads(response.text)['Data'][0]\n",
    "\n",
    "        # Create a dictionary containing all keys and values from data\n",
    "        df_data = {key: data[key] for key in keys}\n",
    "\n",
    "        # Convert all values in df_data to lists\n",
    "        for key, value in df_data.items():\n",
    "            if not isinstance(value, list):\n",
    "                df_data[key] = [value]\n",
    "\n",
    "        # Find the longest list in df_data\n",
    "        max_len = max([len(value) for value in df_data.values()])\n",
    "\n",
    "        # Extend all the lists to the length of the longest list\n",
    "        for key, value in df_data.items():\n",
    "            if len(value) < max_len:\n",
    "                df_data[key] = value + [None] * (max_len - len(value))\n",
    "\n",
    "        # Create the DataFrame\n",
    "        df = pd.DataFrame(df_data)\n",
    "\n",
    "        return df\n",
    "\n",
    "    else:\n",
    "        print(f\"Error fetching data for sample ID {sampling_feature_id}, Status code: {response.status_code}\")\n",
    "        return None"
   ]
  },
  {
   "cell_type": "code",
   "execution_count": null,
   "metadata": {},
   "outputs": [],
   "source": [
    "progress_bar = widgets.IntProgress(\n",
    "    value=0,\n",
    "    min=0,\n",
    "    max=len(sampling_feature_ids),\n",
    "    description='Loading:',\n",
    "    bar_style='info',\n",
    "    style={'bar_color': 'maroon'},\n",
    "    orientation='horizontal'\n",
    ")\n",
    "\n",
    "display(progress_bar)\n",
    "\n",
    "# Iterate over the list of SamplingFeatureIDs\n",
    "for index, sampling_feature_id in enumerate(sampling_feature_ids):\n",
    "    # Get the measurement data for the current SamplingFeatureID\n",
    "    df = get_measurement_data(my_app.api.api_key, sampling_feature_id)\n",
    "\n",
    "    # Check if the dataframe is not empty and not None\n",
    "    if df is not None and not df.empty:\n",
    "        # Append the dataframe to the measurement_data DataFrame\n",
    "        measurement_data = measurement_data._append(df, ignore_index=True)\n",
    "\n",
    "    # Update the progress bar\n",
    "    progress_bar.value = index + 1"
   ]
  },
  {
   "cell_type": "code",
   "execution_count": null,
   "metadata": {},
   "outputs": [],
   "source": [
    "# Save the combined measurement_data DataFrame\n",
    "measurement_data.to_csv('measurement_data.csv', index=False)"
   ]
  }
 ],
 "metadata": {
  "kernelspec": {
   "display_name": "Python 3",
   "language": "python",
   "name": "python3"
  },
  "language_info": {
   "codemirror_mode": {
    "name": "ipython",
    "version": 3
   },
   "file_extension": ".py",
   "mimetype": "text/x-python",
   "name": "python",
   "nbconvert_exporter": "python",
   "pygments_lexer": "ipython3",
   "version": "3.11.2"
  },
  "orig_nbformat": 4
 },
 "nbformat": 4,
 "nbformat_minor": 2
}

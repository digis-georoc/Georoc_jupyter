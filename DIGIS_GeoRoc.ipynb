{
 "cells": [
  {
   "attachments": {},
   "cell_type": "markdown",
   "metadata": {},
   "source": [
    "<img src=\"https://pbs.twimg.com/media/E0m6c9FX0AIX0p1.png\" style=\"height:150px\" align=\"left\"/> <br><br>\n",
    "\n",
    "<br/>\n",
    "<br/>\n",
    "<br/>\n",
    "<br/>\n",
    "<br/>\n",
    "\n",
    "### Common data cleaning methods\n",
    "\n",
    "***\n",
    "\n",
    "The GEOROC Database (Geochemistry of Rocks of the Oceans and Continents) is a comprehensive collection of published analyses <br/> of igneous and metamorphic rocks and minerals. It contains major and trace element concentrations, radiogenic and nonradiogenic <br/> isotope ratios as well as analytical ages for whole rocks, glasses, minerals and inclusions. Metadata include geospatial and other <br/> sample information, analytical details and references.\n",
    "\n",
    "The GEOROC Database was established at the Max Planck Institute for Chemistry in Mainz (Germany). In 2021, the database was <br/> moved to Göttingen University, where it continues to be curated as part of the DIGIS project of the Department of Geochemistry and <br/> Isotope Geology at the Geoscience Centre (GZG) and the University and State Library (SUB). Development for GEOROC 2.0 <br/> includes a new data model for greater interoperability, options to contribute data, and improved access to the database.\n",
    "\n",
    "As part of the DIGIS project, a new API interface has been created for the GEOROC database, allowing easy access to its contents <br/>\n",
    "with simple programming skills. Users can now query the database and retrieve data using the new API, making it more accessible <br/>\n",
    "and useful for researchers and other interested parties. This notebook demonstrates the basic capabilities of GEOROC data access <br/> via the new DIGIS API. \n",
    "\n",
    "For feedback, questions and further information contact [Digis-Info](mailto:digis-info@uni-goettingen.de) directly.\n",
    "\n",
    "This notebook demonstrates the basic capabilities of common data cleaning methods in geoscience.\n",
    "\n",
    "***\n",
    "\n",
    "April 2023, Dr. Marthe Klöcking, Timm M. Wirtz\n",
    "\n",
    "<img src=\"https://mirrors.creativecommons.org/presskit/buttons/88x31/png/by-nc-sa.png\" style=\"height:50px\" align=\"left\"/> <br><br>\n",
    "\n",
    "https://creativecommons.org/licenses/by-nc-sa/4.0/"
   ]
  },
  {
   "attachments": {},
   "cell_type": "markdown",
   "metadata": {},
   "source": [
    "***"
   ]
  },
  {
   "attachments": {},
   "cell_type": "markdown",
   "metadata": {},
   "source": [
    "### <a name=\"table\"></a>Table of contents\n",
    "\n",
    "* [Installing additional software and modules](#install)\n",
    "        * [Hints](#hints)\n",
    "    * [Change the Kernel](#Kernel)\n",
    "* [Making API requests to access the database](#request)\n",
    "        * [Hint](#hint)\n",
    "    * [Store your API-Key here](#yourkey)\n",
    "            * [Hint](#hint2)\n",
    "    * [API call with messages](#apic)\n",
    "    * [Multiple filter function](#ffunc)\n",
    "    * [Extract data from JSON function](#dataf)\n",
    "    * [Choose your parameters for the filters](#params)\n",
    "            * [Hint](#hint3)\n",
    "    * [Extract SamplingFeatureIDs](#esfid)\n",
    "    * [Extract measurement data](#emdata)\n",
    "* [Plotting the extracted data on a map](#plot)\n",
    "* [References](#refs)\n",
    "* [QR code for accessing this Jupyter notebook](#qrcode)"
   ]
  },
  {
   "attachments": {},
   "cell_type": "markdown",
   "metadata": {},
   "source": [
    "***"
   ]
  },
  {
   "attachments": {},
   "cell_type": "markdown",
   "metadata": {},
   "source": [
    "### <a name=\"install\"></a>Installing additional software and modules"
   ]
  },
  {
   "attachments": {},
   "cell_type": "markdown",
   "metadata": {},
   "source": [
    "##### <a name=\"hints\"></a>Hint:\n",
    "- For terminal commands in JupyterLab etc always at the beginning with a ! symbol. Otherwise not."
   ]
  },
  {
   "cell_type": "code",
   "execution_count": null,
   "metadata": {
    "vscode": {
     "languageId": "plaintext"
    }
   },
   "outputs": [],
   "source": [
    "!pip install modul_x"
   ]
  },
  {
   "attachments": {},
   "cell_type": "markdown",
   "metadata": {},
   "source": [
    "***"
   ]
  },
  {
   "attachments": {},
   "cell_type": "markdown",
   "metadata": {},
   "source": [
    "Import modules"
   ]
  },
  {
   "cell_type": "code",
   "execution_count": null,
   "metadata": {},
   "outputs": [],
   "source": [
    "import requests\n",
    "import json\n",
    "import io\n",
    "from contextlib import redirect_stdout\n",
    "import pandas as pd\n",
    "from tqdm.auto import tqdm\n",
    "from ipywidgets import widgets"
   ]
  },
  {
   "attachments": {},
   "cell_type": "markdown",
   "metadata": {},
   "source": [
    "***"
   ]
  },
  {
   "cell_type": "code",
   "execution_count": null,
   "metadata": {},
   "outputs": [],
   "source": [
    "# Erstellen Sie ein Text-Widget\n",
    "api_key_widget = widgets.Text(\n",
    "    placeholder='Geben Sie Ihren API-Schlüssel ein',\n",
    "    description='API Schlüssel:',\n",
    "    disabled=False,\n",
    "    layout=Layout(width=\"auto\"\n",
    ")\n",
    "\n",
    "# Anzeige des Widgets\n",
    "display(api_key_widget);"
   ]
  },
  {
   "cell_type": "code",
   "execution_count": null,
   "metadata": {},
   "outputs": [],
   "source": [
    "# Define API-Key, Base-URL and headers\n",
    "api_key = api_key_widget.value\n",
    "base_url = \"https://api-test.georoc.eu/api/v1/\"\n",
    "headers = {\n",
    "    \"accept\": \"application/json\",\n",
    "    \"DIGIS-API-ACCESSKEY\": api_key\n",
    "}"
   ]
  },
  {
   "cell_type": "code",
   "execution_count": null,
   "metadata": {},
   "outputs": [],
   "source": [
    "def api_query(endpoint, params=None):\n",
    "    response = requests.get(f\"{base_url}{endpoint}\", headers=headers, params=params)\n",
    "    if response.status_code == 200:\n",
    "        data = json.loads(response.text)\n",
    "        print(\"\\n\", f\"API query successful for endpoint:{endpoint}\", \"\\n\")\n",
    "        return data\n",
    "    else:\n",
    "        print(f\"API query error for endpoint: {endpoint}, Statuscode:{response.status_code}\", \"\\n\")\n",
    "        print(response.text)\n",
    "        return None"
   ]
  },
  {
   "cell_type": "code",
   "execution_count": null,
   "metadata": {},
   "outputs": [],
   "source": [
    "def get_filtered_samples(\n",
    "    limit=None,\n",
    "    offset=None,\n",
    "    setting=None,\n",
    "    location1=None,\n",
    "    location2=None,\n",
    "    location3=None,\n",
    "    latitude=None,\n",
    "    longitude=None,\n",
    "    rocktype=None,\n",
    "    rockclass=None,\n",
    "    mineral=None,\n",
    "    material=None,\n",
    "    inclusiontype=None,\n",
    "    sampletech=None,\n",
    "    element=None,\n",
    "    elementtype=None,\n",
    "    value=None,\n",
    "    title=None,\n",
    "    publicationyear=None,\n",
    "    doi=None,\n",
    "    firstname=None,\n",
    "    lastname=None,\n",
    "    agemin=None,\n",
    "    agemax=None,\n",
    "    geoage=None,\n",
    "    geoageprefix=None,\n",
    "    lab=None\n",
    "):\n",
    "    endpoint = \"queries/samples\"\n",
    "\n",
    "    filters = {\n",
    "        key: value\n",
    "        for key, value in locals().items()\n",
    "        if key not in [\"endpoint\"] and value is not None\n",
    "    }\n",
    "\n",
    "    data = api_query(endpoint, params=filters)\n",
    "    return data\n",
    "\n",
    "# Specify the desired keys\n",
    "keys = ['Item_Name', 'Values', 'Units', 'Item_Group']"
   ]
  },
  {
   "cell_type": "code",
   "execution_count": null,
   "metadata": {},
   "outputs": [],
   "source": [
    "def get_measurement_data(api_key, sampling_feature_id):\n",
    "    base_url = f\"https://api-test.georoc.eu/api/v1/queries/fulldata/{sampling_feature_id}\"\n",
    "    headers = {\n",
    "        \"accept\": \"application/json\",\n",
    "        \"DIGIS-API-ACCESSKEY\": api_key\n",
    "    }\n",
    "\n",
    "    response = requests.get(base_url, headers=headers)\n",
    "    if response.status_code == 200:\n",
    "        data = json.loads(response.text)['Data'][0]\n",
    "\n",
    "        # Create a dictionary containing all keys and values from data\n",
    "        df_data = {key: data[key] for key in keys}\n",
    "\n",
    "        # Convert all values in df_data to lists\n",
    "        for key, value in df_data.items():\n",
    "            if not isinstance(value, list):\n",
    "                df_data[key] = [value]\n",
    "\n",
    "        # Find the longest list in df_data\n",
    "        max_len = max([len(value) for value in df_data.values()])\n",
    "\n",
    "        # Extend all the lists to the length of the longest list\n",
    "        for key, value in df_data.items():\n",
    "            if len(value) < max_len:\n",
    "                df_data[key] = value + [None] * (max_len - len(value))\n",
    "\n",
    "        # Create the DataFrame\n",
    "        df = pd.DataFrame(df_data)\n",
    "\n",
    "        return df\n",
    "\n",
    "    else:\n",
    "        print(f\"Error fetching data for sample ID {sampling_feature_id}, Status code: {response.status_code}\")\n",
    "        return None"
   ]
  },
  {
   "cell_type": "code",
   "execution_count": null,
   "metadata": {},
   "outputs": [],
   "source": [
    "def check_api_connection():\n",
    "    endpoint = \"ping\"\n",
    "    response = api_query(endpoint)\n",
    "\n",
    "    if response is not None:\n",
    "        print(\"Connection to API server successful!\\n\")\n",
    "    else:\n",
    "        print(\"Failed to connect to API server!\\n\")\n",
    "        exit(1)\n",
    "\n",
    "\n",
    "# Check the connection to the API server\n",
    "check_api_connection()"
   ]
  },
  {
   "cell_type": "code",
   "execution_count": null,
   "metadata": {},
   "outputs": [],
   "source": [
    "# Get SamplingFeatureIDs for the given filters\n",
    "filtered_samples_combined = get_filtered_samples(\n",
    "    limit=\"1\",  # update the limit to retrieve more than one SamplingFeatureID\n",
    "    location1=\"EAST AFRICAN RIFT\",\n",
    "    location2=\"ETHIOPIAN RIFT\",\n",
    "    setting=\"RIFT VOLCANICS\"\n",
    ")\n",
    "\n",
    "print(filtered_samples_combined, \"\\n\")"
   ]
  },
  {
   "cell_type": "code",
   "execution_count": null,
   "metadata": {},
   "outputs": [],
   "source": [
    "# Extract SamplingFeatureIDs\n",
    "if \"Data\" in filtered_samples_combined and filtered_samples_combined[\"Data\"]:\n",
    "    sampling_feature_ids = [sample[\"SampleID\"] for sample in filtered_samples_combined[\"Data\"]]\n",
    "    print(\"\\n\", f\"The extracted SampleIDs are:\", sampling_feature_ids, \"\\n\")\n",
    "else:\n",
    "    print(\"No data found or unexpected data structure\", \"\\n\")"
   ]
  },
  {
   "cell_type": "code",
   "execution_count": null,
   "metadata": {},
   "outputs": [],
   "source": [
    "# Create an empty DataFrame to store all measurement data\n",
    "measurement_data = pd.DataFrame()"
   ]
  },
  {
   "cell_type": "code",
   "execution_count": null,
   "metadata": {},
   "outputs": [],
   "source": [
    "# Initialize the progress bar\n",
    "progress_bar = tqdm(\n",
    "    total=len(sampling_feature_ids),\n",
    "    desc=\"Processing\",\n",
    "    unit=\"sample\",\n",
    "    dynamic_ncols=True,\n",
    "    leave=True,\n",
    "    colour=\"#00507d\",\n",
    ")\n",
    "\n",
    "# Redirect the standard output to suppress intermediate prints\n",
    "with io.StringIO() as buf, redirect_stdout(buf):\n",
    "\n",
    "    # Iterate over the list of SamplingFeatureIDs\n",
    "    for sampling_feature_id in sampling_feature_ids:\n",
    "        print(f\"Fetching measurement data for SamplingFeatureID: {sampling_feature_id}\")\n",
    "\n",
    "        # Get the measurement data for the current SamplingFeatureID\n",
    "        df = get_measurement_data(api_key, sampling_feature_id)\n",
    "\n",
    "        # Check if the dataframe is not empty and not None\n",
    "        if df is not None and not df.empty:\n",
    "            # Append the dataframe to the measurement_data DataFrame\n",
    "            measurement_data = measurement_data.append(df, ignore_index=True)\n",
    "        elif df is None:\n",
    "            print(f\"Error occurred while fetching data for SamplingFeatureID {sampling_feature_id}\")\n",
    "        else:\n",
    "            print(f\"No measurement data found for SamplingFeatureID {sampling_feature_id}\")\n",
    "\n",
    "        # Update the progress bar for each completed step\n",
    "        progress_bar.update(1)\n",
    "\n",
    "# Close the progress bar after the loop\n",
    "progress_bar.close()"
   ]
  },
  {
   "cell_type": "code",
   "execution_count": null,
   "metadata": {},
   "outputs": [],
   "source": [
    "# Save the combined measurement_data DataFrame\n",
    "measurement_data.to_csv('measurement_data.csv', index=False)"
   ]
  },
  {
   "cell_type": "code",
   "execution_count": null,
   "metadata": {},
   "outputs": [],
   "source": []
  },
  {
   "cell_type": "code",
   "execution_count": null,
   "metadata": {},
   "outputs": [],
   "source": []
  },
  {
   "attachments": {},
   "cell_type": "markdown",
   "metadata": {},
   "source": [
    "### <a name=\"refs\"></a>References"
   ]
  },
  {
   "attachments": {},
   "cell_type": "markdown",
   "metadata": {},
   "source": [
    "[1] GMT 6: Wessel, P., Luis, J. F., Uieda, L., Scharroo, R., Wobbe, F., Smith, W. H. F., & Tian, D. (2019). The Generic Mapping Tools version 6. Geochemistry, Geophysics, Geosystems, 20, 5556–5564. https://doi.org/10.1029/2019GC008515\n",
    "\n",
    "[2] Uieda, Leonardo, Tian, Dongdong, Leong, Wei Ji, Schlitzer, William, Grund, Michael, Jones, Max, Fröhlich, Yvonne, Toney, Liam, Yao, Jiayuan, Magen, Yohai, Jing-Hui, Tong, Materna, Kathryn, Belem, Andre, Newton, Tyler, Anant, Abhishek, Ziebarth, Malte, Quinn, Jamie, & Wessel, Paul. (2023). PyGMT: A Python interface for the Generic Mapping Tools (v0.9.0). Zenodo. https://doi.org/10.5281/zenodo.7772533\n",
    "\n",
    "[3]  Thomas A Caswell, Antony Lee, Elliott Sales de Andrade, Michael Droettboom, Tim Hoffmann, Jody Klymak, John Hunter, Eric Firing, David Stansby, Nelle Varoquaux, Jens Hedegaard Nielsen, Benjamin Root, Ryan May, Oscar Gustafsson, Phil Elson, Jouni K. Seppänen, Jae-Joon Lee, Darren Dale, hannah, … Charlie Moad. (2023). matplotlib/matplotlib: REL: v3.7.1 (v3.7.1). Zenodo. https://doi.org/10.5281/zenodo.7697899\n",
    "\n",
    "[4] Anenburg, M., & Williams, M. J. (2021). Quantifying the Tetrad Effect, Shape Components, and Ce–Eu–Gd Anomalies in Rare Earth Element Patterns. Mathematical Geosciences. doi: https://doi.org/10.1007/s11004-021-09959-5\n",
    "\n",
    "[5] The pandas development team. (2023). pandas-dev/pandas: Pandas (v2.0.0). Zenodo. https://doi.org/10.5281/zenodo.7794821\n",
    "\n",
    "[6] Harris, C.R., Millman, K.J., van der Walt, S.J. et al. Array programming with NumPy. Nature 585, 357–362 (2020). https://doi.org/10.1038/s41586-020-2649-2"
   ]
  },
  {
   "attachments": {},
   "cell_type": "markdown",
   "metadata": {},
   "source": [
    "***"
   ]
  },
  {
   "attachments": {},
   "cell_type": "markdown",
   "metadata": {},
   "source": [
    "### <a name=\"qrcode\"></a>QR code for accessing this Jupyter notebook on Binder"
   ]
  },
  {
   "attachments": {},
   "cell_type": "markdown",
   "metadata": {},
   "source": [
    "<img src=\"https://raw.githubusercontent.com/tmwProjects/Georoc_jupyter/main/BINDER_JUPYTER_QR.png\" style=\"height:610px\" align=\"left\"/> <br><br>"
   ]
  },
  {
   "attachments": {},
   "cell_type": "markdown",
   "metadata": {},
   "source": [
    "##### <a name=\"hint\"></a>Hint:\n",
    "- In some cases, Binder may not work the first time it is started. Then simply restart the link again."
   ]
  },
  {
   "attachments": {},
   "cell_type": "markdown",
   "metadata": {},
   "source": [
    "[Back to Table of contects](#table)"
   ]
  },
  {
   "attachments": {},
   "cell_type": "markdown",
   "metadata": {},
   "source": [
    "***"
   ]
  },
  {
   "attachments": {},
   "cell_type": "markdown",
   "metadata": {},
   "source": [
    "### <a name=\"follow\"></a>Follow us\n",
    "\n",
    "[Visit our Website](https://georoc.mpch-mainz.gwdg.de/georoc/)\n",
    "\n",
    "![Twitter Follow](https://img.shields.io/twitter/follow/DIGISgeo?style=social)"
   ]
  },
  {
   "attachments": {},
   "cell_type": "markdown",
   "metadata": {},
   "source": [
    "[Back to Table of contects](#table)"
   ]
  },
  {
   "attachments": {},
   "cell_type": "markdown",
   "metadata": {},
   "source": [
    "***"
   ]
  }
 ],
 "metadata": {
  "language_info": {
   "name": "python"
  },
  "orig_nbformat": 4
 },
 "nbformat": 4,
 "nbformat_minor": 2
}

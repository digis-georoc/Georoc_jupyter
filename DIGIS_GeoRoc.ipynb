{
 "cells": [
  {
   "attachments": {},
   "cell_type": "markdown",
   "metadata": {},
   "source": [
    "<img src=\"https://pbs.twimg.com/media/E0m6c9FX0AIX0p1.png\" style=\"height:150px\" align=\"left\"/> <br><br>\n",
    "\n",
    "<br/>\n",
    "<br/>\n",
    "<br/>\n",
    "<br/>\n",
    "<br/>\n",
    "\n",
    "### Common data cleaning methods\n",
    "\n",
    "***\n",
    "\n",
    "The GEOROC Database (Geochemistry of Rocks of the Oceans and Continents) is a comprehensive collection of published analyses <br/> of igneous and metamorphic rocks and minerals. It contains major and trace element concentrations, radiogenic and nonradiogenic <br/> isotope ratios as well as analytical ages for whole rocks, glasses, minerals and inclusions. Metadata include geospatial and other <br/> sample information, analytical details and references.\n",
    "\n",
    "The GEOROC Database was established at the Max Planck Institute for Chemistry in Mainz (Germany). In 2021, the database was <br/> moved to Göttingen University, where it continues to be curated as part of the DIGIS project of the Department of Geochemistry and <br/> Isotope Geology at the Geoscience Centre (GZG) and the University and State Library (SUB). Development for GEOROC 2.0 <br/> includes a new data model for greater interoperability, options to contribute data, and improved access to the database.\n",
    "\n",
    "As part of the DIGIS project, a new API interface has been created for the GEOROC database, allowing easy access to its contents <br/>\n",
    "with simple programming skills. Users can now query the database and retrieve data using the new API, making it more accessible <br/>\n",
    "and useful for researchers and other interested parties. This notebook demonstrates the basic capabilities of GEOROC data access <br/> via the new DIGIS API. \n",
    "\n",
    "For feedback, questions and further information contact [Digis-Info](mailto:digis-info@uni-goettingen.de) directly.\n",
    "\n",
    "This notebook demonstrates the basic capabilities of common data cleaning methods in geoscience.\n",
    "\n",
    "***\n",
    "\n",
    "April 2023, Dr. Marthe Klöcking, Timm M. Wirtz\n",
    "\n",
    "<img src=\"https://mirrors.creativecommons.org/presskit/buttons/88x31/png/by-nc-sa.png\" style=\"height:50px\" align=\"left\"/> <br><br>\n",
    "\n",
    "https://creativecommons.org/licenses/by-nc-sa/4.0/"
   ]
  },
  {
   "attachments": {},
   "cell_type": "markdown",
   "metadata": {},
   "source": [
    "***"
   ]
  },
  {
   "attachments": {},
   "cell_type": "markdown",
   "metadata": {},
   "source": [
    "### <a name=\"table\"></a>Table of contents\n",
    "\n",
    "* [Installing additional software and modules](#install)\n",
    "        * [Hints](#hints)\n",
    "    * [Change the Kernel](#Kernel)\n",
    "* [Making API requests to access the database](#request)\n",
    "        * [Hint](#hint)\n",
    "    * [Store your API-Key here](#yourkey)\n",
    "            * [Hint](#hint2)\n",
    "    * [API call with messages](#apic)\n",
    "    * [Multiple filter function](#ffunc)\n",
    "    * [Extract data from JSON function](#dataf)\n",
    "    * [Choose your parameters for the filters](#params)\n",
    "            * [Hint](#hint3)\n",
    "    * [Extract SamplingFeatureIDs](#esfid)\n",
    "    * [Extract measurement data](#emdata)\n",
    "* [Plotting the extracted data on a map](#plot)\n",
    "* [References](#refs)\n",
    "* [QR code for accessing this Jupyter notebook](#qrcode)"
   ]
  },
  {
   "attachments": {},
   "cell_type": "markdown",
   "metadata": {},
   "source": [
    "***"
   ]
  },
  {
   "attachments": {},
   "cell_type": "markdown",
   "metadata": {},
   "source": [
    "Import modules"
   ]
  },
  {
   "cell_type": "code",
   "execution_count": 35,
   "metadata": {},
   "outputs": [],
   "source": [
    "import requests\n",
    "import json\n",
    "import io\n",
    "from contextlib import redirect_stdout\n",
    "import pandas as pd\n",
    "from ipywidgets import widgets\n",
    "from ipywidgets import Layout\n",
    "from ipywidgets import IntProgress, Layout, HBox, Label\n",
    "from functions.widgets import *\n",
    "from functions.api import *\n",
    "from functions.config import *\n",
    "from functions.utils import *"
   ]
  },
  {
   "attachments": {},
   "cell_type": "markdown",
   "metadata": {},
   "source": [
    "***"
   ]
  },
  {
   "cell_type": "code",
   "execution_count": 46,
   "metadata": {},
   "outputs": [
    {
     "data": {
      "application/vnd.jupyter.widget-view+json": {
       "model_id": "0f4dc1e218da462eb6ee2c9ebbca5ce9",
       "version_major": 2,
       "version_minor": 0
      },
      "text/plain": [
       "Text(value='VGltbVdpcnR6OlZHbHRiVmRwY25SNlgwUkpSMGxUWDBGUVNWOHhOamM0TWpjME16WTA=', description='API Key:', lay…"
      ]
     },
     "metadata": {},
     "output_type": "display_data"
    },
    {
     "data": {
      "application/vnd.jupyter.widget-view+json": {
       "model_id": "b70aa6faaef049dfbc350b5440171e13",
       "version_major": 2,
       "version_minor": 0
      },
      "text/plain": [
       "Button(description='Confirm API Key', style=ButtonStyle())"
      ]
     },
     "metadata": {},
     "output_type": "display_data"
    }
   ],
   "source": [
    "display(api_key_widget)\n",
    "display(confirm_button)"
   ]
  },
  {
   "cell_type": "code",
   "execution_count": 47,
   "metadata": {},
   "outputs": [
    {
     "data": {
      "application/vnd.jupyter.widget-view+json": {
       "model_id": "d7bf27863f174dfab8dccdb554eeb58c",
       "version_major": 2,
       "version_minor": 0
      },
      "text/plain": [
       "GridBox(children=(Checkbox(value=False, description='Sample_Num'), Checkbox(value=False, description='unique_i…"
      ]
     },
     "metadata": {},
     "output_type": "display_data"
    }
   ],
   "source": [
    "display(grid)"
   ]
  },
  {
   "cell_type": "code",
   "execution_count": 48,
   "metadata": {},
   "outputs": [
    {
     "name": "stdout",
     "output_type": "stream",
     "text": [
      "API query successful for endpoint:ping \n",
      "\n",
      "Connection to API server successful!\n",
      "\n"
     ]
    }
   ],
   "source": [
    "# Check the connection to the API server\n",
    "check_api_connection()"
   ]
  },
  {
   "cell_type": "code",
   "execution_count": 49,
   "metadata": {},
   "outputs": [
    {
     "data": {
      "application/vnd.jupyter.widget-view+json": {
       "model_id": "77bd4bc8f249452a8c1af77eff3e415b",
       "version_major": 2,
       "version_minor": 0
      },
      "text/plain": [
       "GridBox(children=(Text(value='2', description='Limit:', placeholder='Enter a value for Limit'), Text(value='',…"
      ]
     },
     "metadata": {},
     "output_type": "display_data"
    }
   ],
   "source": [
    "display(grid2)"
   ]
  },
  {
   "cell_type": "code",
   "execution_count": 2,
   "metadata": {},
   "outputs": [
    {
     "ename": "NameError",
     "evalue": "name 'get_filtered_samples' is not defined",
     "output_type": "error",
     "traceback": [
      "\u001b[0;31m---------------------------------------------------------------------------\u001b[0m",
      "\u001b[0;31mNameError\u001b[0m                                 Traceback (most recent call last)",
      "\u001b[1;32m/home/timm/VisualCode/Georoc_jupyter/DIGIS_GeoRoc.ipynb Zelle 12\u001b[0m in \u001b[0;36m1\n\u001b[0;32m----> <a href='vscode-notebook-cell:/home/timm/VisualCode/Georoc_jupyter/DIGIS_GeoRoc.ipynb#X14sZmlsZQ%3D%3D?line=0'>1</a>\u001b[0m filtered_samples_combined \u001b[39m=\u001b[39m get_filtered_samples(\n\u001b[1;32m      <a href='vscode-notebook-cell:/home/timm/VisualCode/Georoc_jupyter/DIGIS_GeoRoc.ipynb#X14sZmlsZQ%3D%3D?line=1'>2</a>\u001b[0m     limit\u001b[39m=\u001b[39mlimit_widget\u001b[39m.\u001b[39mvalue, \n\u001b[1;32m      <a href='vscode-notebook-cell:/home/timm/VisualCode/Georoc_jupyter/DIGIS_GeoRoc.ipynb#X14sZmlsZQ%3D%3D?line=2'>3</a>\u001b[0m     offset\u001b[39m=\u001b[39moffset_widget\u001b[39m.\u001b[39mvalue, \n\u001b[1;32m      <a href='vscode-notebook-cell:/home/timm/VisualCode/Georoc_jupyter/DIGIS_GeoRoc.ipynb#X14sZmlsZQ%3D%3D?line=3'>4</a>\u001b[0m     location1\u001b[39m=\u001b[39mlocation1_widget\u001b[39m.\u001b[39mvalue,\n\u001b[1;32m      <a href='vscode-notebook-cell:/home/timm/VisualCode/Georoc_jupyter/DIGIS_GeoRoc.ipynb#X14sZmlsZQ%3D%3D?line=4'>5</a>\u001b[0m     location2\u001b[39m=\u001b[39mlocation2_widget\u001b[39m.\u001b[39mvalue,\n\u001b[1;32m      <a href='vscode-notebook-cell:/home/timm/VisualCode/Georoc_jupyter/DIGIS_GeoRoc.ipynb#X14sZmlsZQ%3D%3D?line=5'>6</a>\u001b[0m     location3\u001b[39m=\u001b[39mlocation3_widget\u001b[39m.\u001b[39mvalue,\n\u001b[1;32m      <a href='vscode-notebook-cell:/home/timm/VisualCode/Georoc_jupyter/DIGIS_GeoRoc.ipynb#X14sZmlsZQ%3D%3D?line=6'>7</a>\u001b[0m     setting\u001b[39m=\u001b[39msetting_widget\u001b[39m.\u001b[39mvalue,\n\u001b[1;32m      <a href='vscode-notebook-cell:/home/timm/VisualCode/Georoc_jupyter/DIGIS_GeoRoc.ipynb#X14sZmlsZQ%3D%3D?line=7'>8</a>\u001b[0m     latitude\u001b[39m=\u001b[39mlatitude_widget\u001b[39m.\u001b[39mvalue,\n\u001b[1;32m      <a href='vscode-notebook-cell:/home/timm/VisualCode/Georoc_jupyter/DIGIS_GeoRoc.ipynb#X14sZmlsZQ%3D%3D?line=8'>9</a>\u001b[0m     longitude\u001b[39m=\u001b[39mlongitude_widget\u001b[39m.\u001b[39mvalue,\n\u001b[1;32m     <a href='vscode-notebook-cell:/home/timm/VisualCode/Georoc_jupyter/DIGIS_GeoRoc.ipynb#X14sZmlsZQ%3D%3D?line=9'>10</a>\u001b[0m     rocktype\u001b[39m=\u001b[39mrocktype_widget\u001b[39m.\u001b[39mvalue,\n\u001b[1;32m     <a href='vscode-notebook-cell:/home/timm/VisualCode/Georoc_jupyter/DIGIS_GeoRoc.ipynb#X14sZmlsZQ%3D%3D?line=10'>11</a>\u001b[0m     rockclass\u001b[39m=\u001b[39mrockclass_widget\u001b[39m.\u001b[39mvalue,\n\u001b[1;32m     <a href='vscode-notebook-cell:/home/timm/VisualCode/Georoc_jupyter/DIGIS_GeoRoc.ipynb#X14sZmlsZQ%3D%3D?line=11'>12</a>\u001b[0m     mineral\u001b[39m=\u001b[39mmineral_widget\u001b[39m.\u001b[39mvalue,\n\u001b[1;32m     <a href='vscode-notebook-cell:/home/timm/VisualCode/Georoc_jupyter/DIGIS_GeoRoc.ipynb#X14sZmlsZQ%3D%3D?line=12'>13</a>\u001b[0m     material\u001b[39m=\u001b[39mmaterial_widget\u001b[39m.\u001b[39mvalue,\n\u001b[1;32m     <a href='vscode-notebook-cell:/home/timm/VisualCode/Georoc_jupyter/DIGIS_GeoRoc.ipynb#X14sZmlsZQ%3D%3D?line=13'>14</a>\u001b[0m     inclusiontype\u001b[39m=\u001b[39minclusiontype_widget\u001b[39m.\u001b[39mvalue,\n\u001b[1;32m     <a href='vscode-notebook-cell:/home/timm/VisualCode/Georoc_jupyter/DIGIS_GeoRoc.ipynb#X14sZmlsZQ%3D%3D?line=14'>15</a>\u001b[0m     sampletech\u001b[39m=\u001b[39msampletech_widget\u001b[39m.\u001b[39mvalue,\n\u001b[1;32m     <a href='vscode-notebook-cell:/home/timm/VisualCode/Georoc_jupyter/DIGIS_GeoRoc.ipynb#X14sZmlsZQ%3D%3D?line=15'>16</a>\u001b[0m     element\u001b[39m=\u001b[39melement_widget\u001b[39m.\u001b[39mvalue,\n\u001b[1;32m     <a href='vscode-notebook-cell:/home/timm/VisualCode/Georoc_jupyter/DIGIS_GeoRoc.ipynb#X14sZmlsZQ%3D%3D?line=16'>17</a>\u001b[0m     elementtype\u001b[39m=\u001b[39melementtype_widget\u001b[39m.\u001b[39mvalue,\n\u001b[1;32m     <a href='vscode-notebook-cell:/home/timm/VisualCode/Georoc_jupyter/DIGIS_GeoRoc.ipynb#X14sZmlsZQ%3D%3D?line=17'>18</a>\u001b[0m     value\u001b[39m=\u001b[39mvalue_widget\u001b[39m.\u001b[39mvalue,\n\u001b[1;32m     <a href='vscode-notebook-cell:/home/timm/VisualCode/Georoc_jupyter/DIGIS_GeoRoc.ipynb#X14sZmlsZQ%3D%3D?line=18'>19</a>\u001b[0m     title\u001b[39m=\u001b[39mtitle_widget\u001b[39m.\u001b[39mvalue,\n\u001b[1;32m     <a href='vscode-notebook-cell:/home/timm/VisualCode/Georoc_jupyter/DIGIS_GeoRoc.ipynb#X14sZmlsZQ%3D%3D?line=19'>20</a>\u001b[0m     publicationyear\u001b[39m=\u001b[39mpublicationyear_widget\u001b[39m.\u001b[39mvalue,\n\u001b[1;32m     <a href='vscode-notebook-cell:/home/timm/VisualCode/Georoc_jupyter/DIGIS_GeoRoc.ipynb#X14sZmlsZQ%3D%3D?line=20'>21</a>\u001b[0m     doi\u001b[39m=\u001b[39mdoi_widget\u001b[39m.\u001b[39mvalue,\n\u001b[1;32m     <a href='vscode-notebook-cell:/home/timm/VisualCode/Georoc_jupyter/DIGIS_GeoRoc.ipynb#X14sZmlsZQ%3D%3D?line=21'>22</a>\u001b[0m     firstname\u001b[39m=\u001b[39mfirstname_widget\u001b[39m.\u001b[39mvalue,\n\u001b[1;32m     <a href='vscode-notebook-cell:/home/timm/VisualCode/Georoc_jupyter/DIGIS_GeoRoc.ipynb#X14sZmlsZQ%3D%3D?line=22'>23</a>\u001b[0m     lastname\u001b[39m=\u001b[39mlastname_widget\u001b[39m.\u001b[39mvalue,\n\u001b[1;32m     <a href='vscode-notebook-cell:/home/timm/VisualCode/Georoc_jupyter/DIGIS_GeoRoc.ipynb#X14sZmlsZQ%3D%3D?line=23'>24</a>\u001b[0m     agemin\u001b[39m=\u001b[39magemin_widget\u001b[39m.\u001b[39mvalue,\n\u001b[1;32m     <a href='vscode-notebook-cell:/home/timm/VisualCode/Georoc_jupyter/DIGIS_GeoRoc.ipynb#X14sZmlsZQ%3D%3D?line=24'>25</a>\u001b[0m     agemax\u001b[39m=\u001b[39magemax_widget\u001b[39m.\u001b[39mvalue,\n\u001b[1;32m     <a href='vscode-notebook-cell:/home/timm/VisualCode/Georoc_jupyter/DIGIS_GeoRoc.ipynb#X14sZmlsZQ%3D%3D?line=25'>26</a>\u001b[0m     geoage\u001b[39m=\u001b[39mgeoage_widget\u001b[39m.\u001b[39mvalue,\n\u001b[1;32m     <a href='vscode-notebook-cell:/home/timm/VisualCode/Georoc_jupyter/DIGIS_GeoRoc.ipynb#X14sZmlsZQ%3D%3D?line=26'>27</a>\u001b[0m     geoageprefix\u001b[39m=\u001b[39mgeoageprefix_widget\u001b[39m.\u001b[39mvalue,\n\u001b[1;32m     <a href='vscode-notebook-cell:/home/timm/VisualCode/Georoc_jupyter/DIGIS_GeoRoc.ipynb#X14sZmlsZQ%3D%3D?line=27'>28</a>\u001b[0m     lab\u001b[39m=\u001b[39mlab_widget\u001b[39m.\u001b[39mvalue\n\u001b[1;32m     <a href='vscode-notebook-cell:/home/timm/VisualCode/Georoc_jupyter/DIGIS_GeoRoc.ipynb#X14sZmlsZQ%3D%3D?line=28'>29</a>\u001b[0m )\n\u001b[1;32m     <a href='vscode-notebook-cell:/home/timm/VisualCode/Georoc_jupyter/DIGIS_GeoRoc.ipynb#X14sZmlsZQ%3D%3D?line=30'>31</a>\u001b[0m \u001b[39mprint\u001b[39m(filtered_samples_combined, \u001b[39m\"\u001b[39m\u001b[39m\\n\u001b[39;00m\u001b[39m\"\u001b[39m)\n",
      "\u001b[0;31mNameError\u001b[0m: name 'get_filtered_samples' is not defined"
     ]
    }
   ],
   "source": [
    "filtered_samples_combined = get_filtered_samples(\n",
    "    limit=limit_widget.value, \n",
    "    offset=offset_widget.value, \n",
    "    location1=location1_widget.value,\n",
    "    location2=location2_widget.value,\n",
    "    location3=location3_widget.value,\n",
    "    setting=setting_widget.value,\n",
    "    latitude=latitude_widget.value,\n",
    "    longitude=longitude_widget.value,\n",
    "    rocktype=rocktype_widget.value,\n",
    "    rockclass=rockclass_widget.value,\n",
    "    mineral=mineral_widget.value,\n",
    "    material=material_widget.value,\n",
    "    inclusiontype=inclusiontype_widget.value,\n",
    "    sampletech=sampletech_widget.value,\n",
    "    element=element_widget.value,\n",
    "    elementtype=elementtype_widget.value,\n",
    "    value=value_widget.value,\n",
    "    title=title_widget.value,\n",
    "    publicationyear=publicationyear_widget.value,\n",
    "    doi=doi_widget.value,\n",
    "    firstname=firstname_widget.value,\n",
    "    lastname=lastname_widget.value,\n",
    "    agemin=agemin_widget.value,\n",
    "    agemax=agemax_widget.value,\n",
    "    geoage=geoage_widget.value,\n",
    "    geoageprefix=geoageprefix_widget.value,\n",
    "    lab=lab_widget.value\n",
    ")\n",
    "\n",
    "print(filtered_samples_combined, \"\\n\")"
   ]
  },
  {
   "cell_type": "code",
   "execution_count": null,
   "metadata": {},
   "outputs": [],
   "source": [
    "# Extract SamplingFeatureIDs\n",
    "if \"Data\" in filtered_samples_combined and filtered_samples_combined[\"Data\"]:\n",
    "    sampling_feature_ids = [sample[\"SampleID\"] for sample in filtered_samples_combined[\"Data\"]]\n",
    "    print(\"\\n\", f\"The extracted SampleIDs are:\", sampling_feature_ids, \"\\n\")\n",
    "else:\n",
    "    print(\"No data found or unexpected data structure\", \"\\n\")"
   ]
  },
  {
   "cell_type": "code",
   "execution_count": null,
   "metadata": {},
   "outputs": [],
   "source": [
    "# Create an empty DataFrame to store all measurement data\n",
    "measurement_data = pd.DataFrame()"
   ]
  },
  {
   "cell_type": "code",
   "execution_count": null,
   "metadata": {},
   "outputs": [],
   "source": [
    "# Erstelle die Progressbar\n",
    "progress = IntProgress(value=0, min=0, max=len(sampling_feature_ids), layout=Layout(width=\"auto\"))\n",
    "progress_label = Label('Starting...')\n",
    "progress_box = HBox([progress, progress_label])\n",
    "display(progress_box)\n",
    "\n",
    "# Iterate over the list of SamplingFeatureIDs\n",
    "for sampling_feature_id in sampling_feature_ids:\n",
    "    print(f\"Fetching measurement data for SamplingFeatureID: {sampling_feature_id}\")\n",
    "\n",
    "    # Get the measurement data for the current SamplingFeatureID\n",
    "    df = get_measurement_data(api_key_widget.value, sampling_feature_id)\n",
    "\n",
    "    # Check if the dataframe is not empty and not None\n",
    "    if df is not None and not df.empty:\n",
    "        # Append the dataframe to the measurement_data DataFrame\n",
    "        measurement_data = measurement_data.append(df, ignore_index=True)\n",
    "\n",
    "        # Print the dataframe\n",
    "        print(f\"Data for SamplingFeatureID {sampling_feature_id}:\\n\", df)\n",
    "    elif df is None:\n",
    "        print(f\"Error occurred while fetching data for SamplingFeatureID {sampling_feature_id}\")\n",
    "    else:\n",
    "        print(f\"No measurement data found for SamplingFeatureID {sampling_feature_id}\")\n",
    "\n",
    "    # Aktualisiere die Progressbar und das Label\n",
    "    progress.value += 1\n",
    "    progress_label.value = f\"Processing: {sampling_feature_id} ({progress.value}/{progress.max})\""
   ]
  },
  {
   "cell_type": "code",
   "execution_count": null,
   "metadata": {},
   "outputs": [],
   "source": [
    "# Save the combined measurement_data DataFrame\n",
    "measurement_data.to_csv('measurement_data.csv', index=False)"
   ]
  },
  {
   "cell_type": "code",
   "execution_count": null,
   "metadata": {},
   "outputs": [],
   "source": []
  },
  {
   "cell_type": "code",
   "execution_count": null,
   "metadata": {},
   "outputs": [],
   "source": []
  },
  {
   "attachments": {},
   "cell_type": "markdown",
   "metadata": {},
   "source": [
    "### <a name=\"refs\"></a>References"
   ]
  },
  {
   "attachments": {},
   "cell_type": "markdown",
   "metadata": {},
   "source": [
    "[1] GMT 6: Wessel, P., Luis, J. F., Uieda, L., Scharroo, R., Wobbe, F., Smith, W. H. F., & Tian, D. (2019). The Generic Mapping Tools version 6. Geochemistry, Geophysics, Geosystems, 20, 5556–5564. https://doi.org/10.1029/2019GC008515\n",
    "\n",
    "[2] Uieda, Leonardo, Tian, Dongdong, Leong, Wei Ji, Schlitzer, William, Grund, Michael, Jones, Max, Fröhlich, Yvonne, Toney, Liam, Yao, Jiayuan, Magen, Yohai, Jing-Hui, Tong, Materna, Kathryn, Belem, Andre, Newton, Tyler, Anant, Abhishek, Ziebarth, Malte, Quinn, Jamie, & Wessel, Paul. (2023). PyGMT: A Python interface for the Generic Mapping Tools (v0.9.0). Zenodo. https://doi.org/10.5281/zenodo.7772533\n",
    "\n",
    "[3]  Thomas A Caswell, Antony Lee, Elliott Sales de Andrade, Michael Droettboom, Tim Hoffmann, Jody Klymak, John Hunter, Eric Firing, David Stansby, Nelle Varoquaux, Jens Hedegaard Nielsen, Benjamin Root, Ryan May, Oscar Gustafsson, Phil Elson, Jouni K. Seppänen, Jae-Joon Lee, Darren Dale, hannah, … Charlie Moad. (2023). matplotlib/matplotlib: REL: v3.7.1 (v3.7.1). Zenodo. https://doi.org/10.5281/zenodo.7697899\n",
    "\n",
    "[4] Anenburg, M., & Williams, M. J. (2021). Quantifying the Tetrad Effect, Shape Components, and Ce–Eu–Gd Anomalies in Rare Earth Element Patterns. Mathematical Geosciences. doi: https://doi.org/10.1007/s11004-021-09959-5\n",
    "\n",
    "[5] The pandas development team. (2023). pandas-dev/pandas: Pandas (v2.0.0). Zenodo. https://doi.org/10.5281/zenodo.7794821\n",
    "\n",
    "[6] Harris, C.R., Millman, K.J., van der Walt, S.J. et al. Array programming with NumPy. Nature 585, 357–362 (2020). https://doi.org/10.1038/s41586-020-2649-2"
   ]
  },
  {
   "attachments": {},
   "cell_type": "markdown",
   "metadata": {},
   "source": [
    "***"
   ]
  },
  {
   "attachments": {},
   "cell_type": "markdown",
   "metadata": {},
   "source": [
    "### <a name=\"qrcode\"></a>QR code for accessing this Jupyter notebook on Binder"
   ]
  },
  {
   "attachments": {},
   "cell_type": "markdown",
   "metadata": {},
   "source": [
    "<img src=\"https://raw.githubusercontent.com/tmwProjects/Georoc_jupyter/main/BINDER_JUPYTER_QR.png\" style=\"height:610px\" align=\"left\"/> <br><br>"
   ]
  },
  {
   "attachments": {},
   "cell_type": "markdown",
   "metadata": {},
   "source": [
    "##### <a name=\"hint\"></a>Hint:\n",
    "- In some cases, Binder may not work the first time it is started. Then simply restart the link again."
   ]
  },
  {
   "attachments": {},
   "cell_type": "markdown",
   "metadata": {},
   "source": [
    "[Back to Table of contects](#table)"
   ]
  },
  {
   "attachments": {},
   "cell_type": "markdown",
   "metadata": {},
   "source": [
    "***"
   ]
  },
  {
   "attachments": {},
   "cell_type": "markdown",
   "metadata": {},
   "source": [
    "### <a name=\"follow\"></a>Follow us\n",
    "\n",
    "[Visit our Website](https://georoc.mpch-mainz.gwdg.de/georoc/)\n",
    "\n",
    "![Twitter Follow](https://img.shields.io/twitter/follow/DIGISgeo?style=social)"
   ]
  },
  {
   "attachments": {},
   "cell_type": "markdown",
   "metadata": {},
   "source": [
    "[Back to Table of contects](#table)"
   ]
  },
  {
   "attachments": {},
   "cell_type": "markdown",
   "metadata": {},
   "source": [
    "***"
   ]
  }
 ],
 "metadata": {
  "kernelspec": {
   "display_name": "Python 3",
   "language": "python",
   "name": "python3"
  },
  "language_info": {
   "codemirror_mode": {
    "name": "ipython",
    "version": 3
   },
   "file_extension": ".py",
   "mimetype": "text/x-python",
   "name": "python",
   "nbconvert_exporter": "python",
   "pygments_lexer": "ipython3",
   "version": "3.11.2"
  },
  "orig_nbformat": 4
 },
 "nbformat": 4,
 "nbformat_minor": 2
}
